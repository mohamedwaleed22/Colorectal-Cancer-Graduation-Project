{
 "cells": [
  {
   "cell_type": "code",
   "execution_count": 1,
   "id": "a778cfbd",
   "metadata": {},
   "outputs": [],
   "source": [
    "import os\n",
    "import numpy as np \n",
    "import pandas as pd\n",
    "# from tensorflow.keras.preprocessing.image import ImageDataGenerator\n",
    "import matplotlib.pyplot as plt\n",
    "from PIL import Image, ImageDraw\n",
    "import xml.etree.ElementTree as ET\n",
    "from pathlib import Path\n",
    "import tensorflow_hub as hub    \n",
    "# import cv2\n",
    "import tensorflow as tf\n",
    "from tensorflow import keras\n",
    "import matplotlib.image as mpimg\n",
    "%matplotlib inline"
   ]
  },
  {
   "cell_type": "code",
   "execution_count": 13,
   "id": "4b2f2f89",
   "metadata": {},
   "outputs": [
    {
     "name": "stdout",
     "output_type": "stream",
     "text": [
      "Collecting opencv-python\n",
      "  Downloading opencv_python-4.7.0.68-cp37-abi3-win_amd64.whl (38.2 MB)\n",
      "     -------------------------------------- 38.2/38.2 MB 476.4 kB/s eta 0:00:00\n",
      "Requirement already satisfied: numpy>=1.17.3 in d:\\downloads\\anaconda3\\envs\\myenvtensor\\lib\\site-packages (from opencv-python) (1.23.5)\n",
      "Installing collected packages: opencv-python\n",
      "Successfully installed opencv-python-4.7.0.68\n"
     ]
    }
   ],
   "source": [
    "# !pip install opencv-python"
   ]
  },
  {
   "cell_type": "code",
   "execution_count": 2,
   "id": "227aba4a",
   "metadata": {},
   "outputs": [
    {
     "name": "stdout",
     "output_type": "stream",
     "text": [
      "INFO:tensorflow:Using MirroredStrategy with devices ('/job:localhost/replica:0/task:0/device:GPU:0',)\n",
      "number of devices: 1\n"
     ]
    }
   ],
   "source": [
    "strategy = tf.distribute.MirroredStrategy()\n",
    "print(\"number of devices: {}\".format(strategy.num_replicas_in_sync))"
   ]
  },
  {
   "cell_type": "code",
   "execution_count": 7,
   "id": "a699ce32",
   "metadata": {},
   "outputs": [],
   "source": [
    "# !pip install tensorflow_text\n",
    "# !pip install tensorflow_hub\n",
    "\n",
    "# import tensorflow_hub as hub    \n",
    "# import tensorflow_text as text "
   ]
  },
  {
   "cell_type": "code",
   "execution_count": 2,
   "id": "12eef5a5",
   "metadata": {},
   "outputs": [
    {
     "name": "stdout",
     "output_type": "stream",
     "text": [
      "1\n"
     ]
    }
   ],
   "source": [
    "print(len(tf.config.experimental.list_physical_devices('GPU')))"
   ]
  },
  {
   "cell_type": "code",
   "execution_count": 3,
   "id": "49eefa0f",
   "metadata": {},
   "outputs": [
    {
     "data": {
      "text/plain": [
       "True"
      ]
     },
     "execution_count": 3,
     "metadata": {},
     "output_type": "execute_result"
    }
   ],
   "source": [
    "tf.test.is_built_with_cuda()"
   ]
  },
  {
   "cell_type": "code",
   "execution_count": 4,
   "id": "4ce5698b",
   "metadata": {},
   "outputs": [
    {
     "data": {
      "text/plain": [
       "'/device:GPU:0'"
      ]
     },
     "execution_count": 4,
     "metadata": {},
     "output_type": "execute_result"
    }
   ],
   "source": [
    "tf.test.gpu_device_name()"
   ]
  },
  {
   "cell_type": "code",
   "execution_count": 7,
   "id": "54d62b49",
   "metadata": {},
   "outputs": [
    {
     "data": {
      "text/plain": [
       "[name: \"/device:CPU:0\"\n",
       " device_type: \"CPU\"\n",
       " memory_limit: 268435456\n",
       " locality {\n",
       " }\n",
       " incarnation: 13910733564862897202\n",
       " xla_global_id: -1,\n",
       " name: \"/device:GPU:0\"\n",
       " device_type: \"GPU\"\n",
       " memory_limit: 4850712576\n",
       " locality {\n",
       "   bus_id: 1\n",
       "   links {\n",
       "   }\n",
       " }\n",
       " incarnation: 1746726400725800509\n",
       " physical_device_desc: \"device: 0, name: NVIDIA GeForce GTX 1060 with Max-Q Design, pci bus id: 0000:01:00.0, compute capability: 6.1\"\n",
       " xla_global_id: 416903419]"
      ]
     },
     "execution_count": 7,
     "metadata": {},
     "output_type": "execute_result"
    }
   ],
   "source": [
    "from tensorflow.python.client import device_lib\n",
    "device_lib.list_local_devices()"
   ]
  },
  {
   "cell_type": "code",
   "execution_count": 8,
   "id": "63da9692",
   "metadata": {},
   "outputs": [
    {
     "data": {
      "text/plain": [
       "'C:\\\\Users\\\\dell g3'"
      ]
     },
     "execution_count": 8,
     "metadata": {},
     "output_type": "execute_result"
    }
   ],
   "source": [
    "os.getcwd()"
   ]
  },
  {
   "cell_type": "code",
   "execution_count": 9,
   "id": "d46ef9f4",
   "metadata": {},
   "outputs": [
    {
     "name": "stdout",
     "output_type": "stream",
     "text": [
      "2.10.0\n"
     ]
    }
   ],
   "source": [
    "print(tf.version.VERSION)"
   ]
  },
  {
   "cell_type": "code",
   "execution_count": 10,
   "id": "608860c0",
   "metadata": {},
   "outputs": [
    {
     "data": {
      "text/plain": [
       "'3.9.15 (main, Nov 24 2022, 14:39:17) [MSC v.1916 64 bit (AMD64)]'"
      ]
     },
     "execution_count": 10,
     "metadata": {},
     "output_type": "execute_result"
    }
   ],
   "source": [
    "import sys\n",
    "sys.version"
   ]
  },
  {
   "cell_type": "code",
   "execution_count": 7,
   "id": "ea19a809",
   "metadata": {},
   "outputs": [
    {
     "name": "stdout",
     "output_type": "stream",
     "text": [
      "C:\\Users\\dell g3\n"
     ]
    }
   ],
   "source": [
    "print(os.getcwd())"
   ]
  },
  {
   "cell_type": "code",
   "execution_count": 8,
   "id": "7fdb3026",
   "metadata": {},
   "outputs": [],
   "source": [
    "im_dir = 'C:/Users/dell g3/Downloads/PolypsSet/test2019/Image/1'\n",
    "annot_dir = 'C:/Users/dell g3/Downloads/PolypsSet/test2019/Annotation/1'\n"
   ]
  },
  {
   "cell_type": "code",
   "execution_count": 9,
   "id": "1ff824a8",
   "metadata": {},
   "outputs": [
    {
     "data": {
      "image/png": "[encoded data removed]",
      "text/plain": [
       "<PIL.JpegImagePlugin.JpegImageFile image mode=RGB size=384x288 at 0x1C18F50FD00>"
      ]
     },
     "execution_count": 9,
     "metadata": {},
     "output_type": "execute_result"
    }
   ],
   "source": [
    "sample_img = Image.open('C:/Users/dell g3/Downloads/PolypsSet/test2019/Image/1/1.jpg')\n",
    "sample_img"
   ]
  },
  {
   "cell_type": "code",
   "execution_count": 10,
   "id": "e4a94d61",
   "metadata": {},
   "outputs": [
    {
     "name": "stdout",
     "output_type": "stream",
     "text": [
      "<annotation>\n",
      "    <folder>15</folder>\n",
      "    <filename>1.png</filename>\n",
      "    <path>/scratch/mfathan/Thesis/Dataset/Extracted/MICCAI2017_Test/test/15/1.png</path>\n",
      "    <source>\n",
      "        <database>Unknown</database>\n",
      "    </source>\n",
      "    <size>\n",
      "        <width>384</width>\n",
      "        <height>288</height>\n",
      "        <depth>3</depth>\n",
      "    </size>\n",
      "    <segmented>0</segmented>\n",
      "    <object>\n",
      "        <name>adenomatous</name>\n",
      "        <pose>Unspecified</pose>\n",
      "        <truncated>0</truncated>\n",
      "        <difficult>0</difficult>\n",
      "        <bndbox>\n",
      "            <xmin>177</xmin>\n",
      "            <ymin> 181</ymin>\n",
      "            <xmax> 262</xmax>\n",
      "            <ymax> 241</ymax>\n",
      "        </bndbox>\n",
      "    </object>\n",
      "</annotation>\n",
      "\n"
     ]
    }
   ],
   "source": [
    "with open('C:/Users/dell g3/Downloads/PolypsSet/test2019/Annotation/1/1.xml') as annot_file:\n",
    "    print(''.join(annot_file.readlines()))"
   ]
  },
  {
   "cell_type": "code",
   "execution_count": 81,
   "id": "09d8c28e",
   "metadata": {},
   "outputs": [
    {
     "name": "stdout",
     "output_type": "stream",
     "text": [
      "[]\n"
     ]
    }
   ],
   "source": [
    "tree = ET.parse('C:/Users/dell g3/Downloads/PolypsSet/test2019/Annotation/1/1.xml')\n",
    "root = tree.getroot()\n",
    "\n",
    "sample_annotations = []\n",
    "\n",
    "for neighbor in root.iter('bndbox'):\n",
    "    xmin = int(neighbor.find('xmin').text)\n",
    "    ymin = int(neighbor.find('ymin').text)\n",
    "    xmax = int(neighbor.find('xmax').text)\n",
    "    ymax = int(neighbor.find('ymax').text)\n",
    "    \n",
    "#     print(xmin, ymin, xmax, ymax)\n",
    "    sample_annotations.append([xmin, ymin, xmax, ymax])\n",
    "    \n",
    "print(sample_annotations)"
   ]
  },
  {
   "cell_type": "code",
   "execution_count": 75,
   "id": "6a084aa6",
   "metadata": {},
   "outputs": [
    {
     "name": "stdout",
     "output_type": "stream",
     "text": [
      "[177, 181, 262, 241]\n"
     ]
    },
    {
     "data": {
      "image/png": "[encoded data removed]",
      "text/plain": [
       "<PIL.Image.Image image mode=RGB size=384x288 at 0x1C18E2935E0>"
      ]
     },
     "execution_count": 75,
     "metadata": {},
     "output_type": "execute_result"
    }
   ],
   "source": [
    "sample_image_annotated = sample_img.copy()\n",
    "\n",
    "img_bbox = ImageDraw.Draw(sample_image_annotated)\n",
    "\n",
    "for bbox in sample_annotations:\n",
    "    print(bbox)\n",
    "    img_bbox.rectangle(bbox, outline=\"green\") \n",
    "    \n",
    "sample_image_annotated"
   ]
  },
  {
   "cell_type": "code",
   "execution_count": 76,
   "id": "517ede61",
   "metadata": {},
   "outputs": [
    {
     "name": "stdout",
     "output_type": "stream",
     "text": [
      "['adenomatous']\n"
     ]
    }
   ],
   "source": [
    "name_annot = []\n",
    "for neighbor in root.iter('object'):\n",
    "    name = neighbor.find('name').text\n",
    "    name_annot.append(name)\n",
    "print(name_annot)"
   ]
  },
  {
   "cell_type": "code",
   "execution_count": 2,
   "id": "71c0e97a",
   "metadata": {},
   "outputs": [
    {
     "name": "stdout",
     "output_type": "stream",
     "text": [
      "543\n"
     ]
    }
   ],
   "source": [
    "x = os.listdir('C:/Users/dell g3/Downloads/PolypsSet/test2019/Annotation/1')\n",
    "print(len(x))"
   ]
  },
  {
   "cell_type": "code",
   "execution_count": 3,
   "id": "29e27e1d",
   "metadata": {},
   "outputs": [
    {
     "ename": "NameError",
     "evalue": "name 'name' is not defined",
     "output_type": "error",
     "traceback": [
      "\u001b[1;31m---------------------------------------------------------------------------\u001b[0m",
      "\u001b[1;31mNameError\u001b[0m                                 Traceback (most recent call last)",
      "\u001b[1;32mC:\\Users\\DELLG3~1\\AppData\\Local\\Temp/ipykernel_16368/4265620629.py\u001b[0m in \u001b[0;36m<module>\u001b[1;34m\u001b[0m\n\u001b[0;32m      7\u001b[0m         \u001b[1;32mif\u001b[0m \u001b[0mneighbor\u001b[0m\u001b[1;33m.\u001b[0m\u001b[0mfind\u001b[0m\u001b[1;33m(\u001b[0m\u001b[1;34m'name'\u001b[0m\u001b[1;33m)\u001b[0m\u001b[1;33m.\u001b[0m\u001b[0mtext\u001b[0m \u001b[1;32min\u001b[0m \u001b[1;33m[\u001b[0m\u001b[1;34m'adenomatous'\u001b[0m\u001b[1;33m,\u001b[0m \u001b[1;34m'hyperplastic'\u001b[0m\u001b[1;33m]\u001b[0m\u001b[1;33m:\u001b[0m\u001b[1;33m\u001b[0m\u001b[1;33m\u001b[0m\u001b[0m\n\u001b[0;32m      8\u001b[0m             \u001b[0mli\u001b[0m\u001b[1;33m.\u001b[0m\u001b[0mappend\u001b[0m\u001b[1;33m(\u001b[0m\u001b[0mi\u001b[0m\u001b[1;33m)\u001b[0m\u001b[1;33m\u001b[0m\u001b[1;33m\u001b[0m\u001b[0m\n\u001b[1;32m----> 9\u001b[1;33m             \u001b[0mlabels\u001b[0m\u001b[1;33m.\u001b[0m\u001b[0mappend\u001b[0m\u001b[1;33m(\u001b[0m\u001b[0mname\u001b[0m\u001b[1;33m)\u001b[0m\u001b[1;33m\u001b[0m\u001b[1;33m\u001b[0m\u001b[0m\n\u001b[0m\u001b[0;32m     10\u001b[0m         \u001b[1;31m#name = neighbor.find('name').text\u001b[0m\u001b[1;33m\u001b[0m\u001b[1;33m\u001b[0m\u001b[0m\n\u001b[0;32m     11\u001b[0m \u001b[1;33m\u001b[0m\u001b[0m\n",
      "\u001b[1;31mNameError\u001b[0m: name 'name' is not defined"
     ]
    }
   ],
   "source": [
    "# labels = []\n",
    "# li = []\n",
    "# for i in range(1, len(x)+1):\n",
    "#     tree = ET.parse('C:/Users/dell g3/Downloads/PolypsSet/test2019/Annotation/1/{}.xml'.format(i))\n",
    "#     root = tree.getroot()\n",
    "#     for neighbor in root.iter('object'):\n",
    "#         if neighbor.find('name').text in ['adenomatous', 'hyperplastic']:\n",
    "#             li.append(i)\n",
    "#             labels.append(name)\n",
    "#         #name = neighbor.find('name').text\n",
    "\n",
    "#         #labels.append(name)\n",
    "#         #li.append(i)\n",
    "# #print(labels)\n"
   ]
  },
  {
   "cell_type": "markdown",
   "id": "e91a20d0",
   "metadata": {},
   "source": [
    "# Data Cleaning (missing values in annotation files)"
   ]
  },
  {
   "cell_type": "code",
   "execution_count": 115,
   "id": "e0d71ddf",
   "metadata": {},
   "outputs": [],
   "source": [
    "test1 = []\n",
    "for i in range(1, len(x)+1):\n",
    "    if i not in li:\n",
    "        test1.append(i)\n"
   ]
  },
  {
   "cell_type": "code",
   "execution_count": 4,
   "id": "4a01f94a",
   "metadata": {},
   "outputs": [
    {
     "data": {
      "text/plain": [
       "27048"
      ]
     },
     "execution_count": 4,
     "metadata": {},
     "output_type": "execute_result"
    }
   ],
   "source": [
    "train = os.listdir('C:/Users/dell g3/Downloads/PolypsSet/train2019/Annotation')\n",
    "len(train)"
   ]
  },
  {
   "cell_type": "code",
   "execution_count": 5,
   "id": "7e37524d",
   "metadata": {},
   "outputs": [],
   "source": [
    "train_labels = []\n",
    "train_empty = []\n",
    "for i in train:\n",
    "    \n",
    "    tree = ET.parse('C:/Users/dell g3/Downloads/PolypsSet/train2019/Annotation/{}'.format(i))\n",
    "    root = tree.getroot()\n",
    "\n",
    "        \n",
    "    for neighbor in root.iter('object'):\n",
    "        #if neighbor.find('name').text in ['adenomatous', 'hyperplastic']:\n",
    "            #train_empty.append(i)\n",
    "            #train_labels.append(name)\n",
    "        name = neighbor.find('name').text\n",
    "        train_labels.append(name)\n",
    "#print(train_labels)\n",
    "#print(len(train_empty))"
   ]
  },
  {
   "cell_type": "code",
   "execution_count": 7,
   "id": "404dfaeb",
   "metadata": {},
   "outputs": [
    {
     "name": "stdout",
     "output_type": "stream",
     "text": [
      "27048\n"
     ]
    }
   ],
   "source": [
    "print(len(train_labels))"
   ]
  },
  {
   "cell_type": "code",
   "execution_count": 96,
   "id": "85eca866",
   "metadata": {},
   "outputs": [
    {
     "data": {
      "text/plain": [
       "1725"
      ]
     },
     "execution_count": 96,
     "metadata": {},
     "output_type": "execute_result"
    }
   ],
   "source": [
    "train1 = []\n",
    "for i in range(1, len(train)+1):\n",
    "    if i not in train_empty:\n",
    "        train1.append(i)\n",
    "train1"
   ]
  },
  {
   "cell_type": "code",
   "execution_count": 59,
   "id": "96af8561",
   "metadata": {},
   "outputs": [
    {
     "data": {
      "text/plain": [
       "27048"
      ]
     },
     "execution_count": 59,
     "metadata": {},
     "output_type": "execute_result"
    }
   ],
   "source": [
    "tr_label_arr = np.array(train_labels)\n",
    "len(tr_label_arr)"
   ]
  },
  {
   "cell_type": "code",
   "execution_count": 98,
   "id": "ac2db801",
   "metadata": {},
   "outputs": [],
   "source": [
    "# file_train = []\n",
    "# for i in train1:\n",
    "#     file_train.append('{}.xml'.format(i))\n",
    "# location = 'C:/Users/dell g3/Downloads/PolypsSet/train2019/Annotation/'\n",
    "\n",
    "# for file in file_train:\n",
    "#     path = os.path.join(location, file) \n",
    "\n",
    "#     os.remove(path) \n"
   ]
  },
  {
   "cell_type": "code",
   "execution_count": 99,
   "id": "7d169094",
   "metadata": {},
   "outputs": [],
   "source": [
    "# file_train = []\n",
    "# for i in train1:\n",
    "#     file_train.append('{}.jpg'.format(i))\n",
    "# location = 'C:/Users/dell g3/Downloads/PolypsSet/train2019/Image/'\n",
    "\n",
    "# for file in file_train:\n",
    "#     path = os.path.join(location, file) \n",
    "\n",
    "#     os.remove(path) "
   ]
  },
  {
   "cell_type": "code",
   "execution_count": 47,
   "id": "0b156188",
   "metadata": {},
   "outputs": [],
   "source": [
    "\n",
    "img_folder=r'C:\\Users\\dell g3\\Downloads\\PolypsSet\\train2019\\Image'"
   ]
  },
  {
   "cell_type": "code",
   "execution_count": 48,
   "id": "d5a8fa9a",
   "metadata": {},
   "outputs": [],
   "source": [
    "train_path = []\n",
    "for file in os.listdir(img_folder):\n",
    "        train_path.append(os.path.join(img_folder, file))"
   ]
  },
  {
   "cell_type": "code",
   "execution_count": 50,
   "id": "3add7627",
   "metadata": {},
   "outputs": [],
   "source": [
    "# train_path"
   ]
  },
  {
   "cell_type": "code",
   "execution_count": 20,
   "id": "b43574a3",
   "metadata": {},
   "outputs": [],
   "source": [
    "training_data = []\n",
    "for i in zip(train_path, train_labels):\n",
    "    training_data.append(i)"
   ]
  },
  {
   "cell_type": "code",
   "execution_count": 53,
   "id": "bed6fca2",
   "metadata": {},
   "outputs": [],
   "source": [
    "adeno_file = []\n",
    "hyper_file = []\n",
    "for i, v in training_data:\n",
    "    if v == 'adenomatous':\n",
    "        adeno_file.append(i)\n",
    "    else:\n",
    "        hyper_file.append(i)\n"
   ]
  },
  {
   "cell_type": "code",
   "execution_count": 58,
   "id": "de76de48",
   "metadata": {},
   "outputs": [
    {
     "name": "stdout",
     "output_type": "stream",
     "text": [
      "14269\n",
      "12779\n",
      "27048\n"
     ]
    }
   ],
   "source": [
    "print(len(adeno_file))\n",
    "print(len(hyper_file))\n",
    "print(len(adeno_file) + len(hyper_file))"
   ]
  },
  {
   "cell_type": "code",
   "execution_count": 69,
   "id": "f55a4874",
   "metadata": {},
   "outputs": [],
   "source": [
    "# for file in adeno_file:\n",
    "#     print(os.path.join(file))"
   ]
  },
  {
   "cell_type": "code",
   "execution_count": 68,
   "id": "2dd33999",
   "metadata": {},
   "outputs": [],
   "source": [
    "\n",
    "# location = 'C:/Users/dell g3/Downloads/PolypsSet/train2019/adenomatous/'\n",
    "\n",
    "# for file in adeno_file:\n",
    "#     path = os.path.join(file) \n",
    "\n",
    "#     os.remove(path) "
   ]
  },
  {
   "cell_type": "code",
   "execution_count": 24,
   "id": "939bd451",
   "metadata": {},
   "outputs": [
    {
     "data": {
      "text/plain": [
       "{'adenomatous': 1, 'hyperplastic': 0}"
      ]
     },
     "execution_count": 24,
     "metadata": {},
     "output_type": "execute_result"
    }
   ],
   "source": [
    "target_dict = {k: v for v,k in enumerate(np.unique(train_labels))}\n",
    "target_dict.update({'adenomatous': 1, 'hyperplastic': 0})\n",
    "target_dict"
   ]
  },
  {
   "cell_type": "code",
   "execution_count": 29,
   "id": "188016ac",
   "metadata": {},
   "outputs": [],
   "source": [
    "target_labels = [target_dict[train_labels[i]] for i in range(len(train_labels))]\n"
   ]
  },
  {
   "cell_type": "code",
   "execution_count": 31,
   "id": "b6a45e1c",
   "metadata": {},
   "outputs": [],
   "source": [
    "#for i in zip(train_labels, target_labels):\n",
    " #   print(i)"
   ]
  },
  {
   "cell_type": "code",
   "execution_count": 46,
   "id": "90c920d5",
   "metadata": {},
   "outputs": [],
   "source": [
    "# def create_dataset_PIL(img_folder):\n",
    "    \n",
    "#     img_data_array=[]\n",
    "#     for file in os.listdir(img_folder):\n",
    "#         image_path = os.path.join(img_folder, file)\n",
    "#         image= np.array(Image.open(image_path))\n",
    "#         image= np.resize(image,(IMG_HEIGHT,IMG_WIDTH,3))\n",
    "#         image = image.astype('float32')\n",
    "#         image /= 255  \n",
    "#         img_data_array.append(image)\n",
    "#     return img_data_array\n",
    "# PIL_img_data =create_dataset_PIL(img_folder)"
   ]
  },
  {
   "cell_type": "markdown",
   "id": "8260c96a",
   "metadata": {},
   "source": [
    "# validating and classifying images based on their annotation"
   ]
  },
  {
   "cell_type": "code",
   "execution_count": 81,
   "id": "a09c73b4",
   "metadata": {},
   "outputs": [
    {
     "name": "stdout",
     "output_type": "stream",
     "text": [
      "184\n"
     ]
    }
   ],
   "source": [
    "x2 = os.listdir('C:/Users/dell g3/Downloads/PolypsSet/val2019/Annotation/17')\n",
    "print(len(x2))"
   ]
  },
  {
   "cell_type": "code",
   "execution_count": 82,
   "id": "d9bc82e5",
   "metadata": {},
   "outputs": [
    {
     "name": "stdout",
     "output_type": "stream",
     "text": [
      "['adenomatous', 'adenomatous', 'adenomatous', 'adenomatous', 'adenomatous', 'adenomatous', 'adenomatous', 'adenomatous', 'adenomatous', 'adenomatous', 'adenomatous', 'adenomatous', 'adenomatous', 'adenomatous', 'adenomatous', 'adenomatous', 'adenomatous', 'adenomatous', 'adenomatous', 'adenomatous', 'adenomatous', 'adenomatous', 'adenomatous', 'adenomatous', 'adenomatous', 'adenomatous', 'adenomatous', 'adenomatous', 'adenomatous', 'adenomatous', 'adenomatous', 'adenomatous', 'adenomatous', 'adenomatous', 'adenomatous', 'adenomatous', 'adenomatous', 'adenomatous', 'adenomatous', 'adenomatous', 'adenomatous', 'adenomatous', 'adenomatous', 'adenomatous', 'adenomatous', 'adenomatous', 'adenomatous', 'adenomatous', 'adenomatous', 'adenomatous', 'adenomatous', 'adenomatous', 'adenomatous', 'adenomatous', 'adenomatous', 'adenomatous', 'adenomatous', 'adenomatous', 'adenomatous', 'adenomatous', 'adenomatous', 'adenomatous', 'adenomatous', 'adenomatous', 'adenomatous', 'adenomatous', 'adenomatous', 'adenomatous', 'adenomatous', 'adenomatous', 'adenomatous', 'adenomatous', 'adenomatous', 'adenomatous', 'adenomatous', 'adenomatous', 'adenomatous', 'adenomatous', 'adenomatous', 'adenomatous', 'adenomatous', 'adenomatous', 'adenomatous', 'adenomatous', 'adenomatous', 'adenomatous', 'adenomatous', 'adenomatous', 'adenomatous', 'adenomatous', 'adenomatous', 'adenomatous', 'adenomatous', 'adenomatous', 'adenomatous', 'adenomatous', 'adenomatous', 'adenomatous', 'adenomatous', 'adenomatous', 'adenomatous', 'adenomatous', 'adenomatous', 'adenomatous', 'adenomatous', 'adenomatous', 'adenomatous', 'adenomatous', 'adenomatous', 'adenomatous', 'adenomatous', 'adenomatous', 'adenomatous', 'adenomatous', 'adenomatous', 'adenomatous', 'adenomatous', 'adenomatous', 'adenomatous', 'adenomatous', 'adenomatous', 'adenomatous', 'adenomatous', 'adenomatous', 'adenomatous', 'adenomatous', 'adenomatous', 'adenomatous', 'adenomatous', 'adenomatous', 'adenomatous', 'adenomatous', 'adenomatous', 'adenomatous', 'adenomatous', 'adenomatous', 'adenomatous', 'adenomatous', 'adenomatous', 'adenomatous', 'adenomatous', 'adenomatous', 'adenomatous', 'adenomatous', 'adenomatous', 'adenomatous', 'adenomatous', 'adenomatous', 'adenomatous', 'adenomatous', 'adenomatous', 'adenomatous', 'adenomatous', 'adenomatous', 'adenomatous', 'adenomatous', 'adenomatous', 'adenomatous', 'adenomatous', 'adenomatous', 'adenomatous', 'adenomatous', 'adenomatous', 'adenomatous', 'adenomatous', 'adenomatous', 'adenomatous', 'adenomatous', 'adenomatous', 'adenomatous', 'adenomatous', 'adenomatous', 'adenomatous', 'adenomatous', 'adenomatous', 'adenomatous', 'adenomatous', 'adenomatous', 'adenomatous', 'adenomatous', 'adenomatous', 'adenomatous', 'adenomatous', 'adenomatous']\n"
     ]
    }
   ],
   "source": [
    "labels = []\n",
    "li = []\n",
    "for i in range(1, len(x2)+1):\n",
    "    tree = ET.parse('C:/Users/dell g3/Downloads/PolypsSet/val2019/Annotation/17/{}.xml'.format(i))\n",
    "    root = tree.getroot()\n",
    "    for neighbor in root.iter('object'):\n",
    "        #if neighbor.find('name').text in ['adenomatous', 'hyperplastic']:\n",
    "         #   li.append(i)\n",
    "          #  labels.append(name)\n",
    "        name = neighbor.find('name').text\n",
    "\n",
    "        labels.append(name)\n",
    "        #li.append(i)\n",
    "print(labels)"
   ]
  },
  {
   "cell_type": "code",
   "execution_count": 102,
   "id": "45fd87ed",
   "metadata": {},
   "outputs": [
    {
     "data": {
      "text/plain": [
       "['C:\\\\Users\\\\dell g3',\n",
       " 'C:\\\\Users\\\\dell g3\\\\anaconda3\\\\python39.zip',\n",
       " 'C:\\\\Users\\\\dell g3\\\\anaconda3\\\\DLLs',\n",
       " 'C:\\\\Users\\\\dell g3\\\\anaconda3\\\\lib',\n",
       " 'C:\\\\Users\\\\dell g3\\\\anaconda3',\n",
       " '',\n",
       " 'C:\\\\Users\\\\dell g3\\\\anaconda3\\\\lib\\\\site-packages',\n",
       " 'C:\\\\Users\\\\dell g3\\\\anaconda3\\\\lib\\\\site-packages\\\\locket-0.2.1-py3.9.egg',\n",
       " 'C:\\\\Users\\\\dell g3\\\\anaconda3\\\\lib\\\\site-packages\\\\win32',\n",
       " 'C:\\\\Users\\\\dell g3\\\\anaconda3\\\\lib\\\\site-packages\\\\win32\\\\lib',\n",
       " 'C:\\\\Users\\\\dell g3\\\\anaconda3\\\\lib\\\\site-packages\\\\Pythonwin',\n",
       " 'C:\\\\Users\\\\dell g3\\\\anaconda3\\\\lib\\\\site-packages\\\\IPython\\\\extensions',\n",
       " 'C:\\\\Users\\\\dell g3\\\\.ipython']"
      ]
     },
     "execution_count": 102,
     "metadata": {},
     "output_type": "execute_result"
    }
   ],
   "source": [
    "os.sys.path"
   ]
  },
  {
   "cell_type": "code",
   "execution_count": 105,
   "id": "fb8928be",
   "metadata": {},
   "outputs": [
    {
     "name": "stdout",
     "output_type": "stream",
     "text": [
      "Collecting opencv-python\n",
      "  Downloading opencv_python-4.6.0.66-cp36-abi3-win_amd64.whl (35.6 MB)\n",
      "Requirement already satisfied: numpy>=1.19.3 in c:\\users\\dell g3\\anaconda3\\lib\\site-packages (from opencv-python) (1.20.3)\n",
      "Installing collected packages: opencv-python\n",
      "Successfully installed opencv-python-4.6.0.66\n"
     ]
    }
   ],
   "source": [
    "!pip install opencv-python"
   ]
  },
  {
   "cell_type": "code",
   "execution_count": 32,
   "id": "86f1000d",
   "metadata": {},
   "outputs": [
    {
     "name": "stdout",
     "output_type": "stream",
     "text": [
      "(27048, 224, 224, 3)\n"
     ]
    }
   ],
   "source": [
    "dataset = []\n",
    "dataset_path = 'C:/Users/dell g3/Downloads/PolypsSet/train2019/Image'\n",
    "for file_name in os.listdir(dataset_path):\n",
    "    image = cv2.imread(os.path.join(dataset_path, file_name))\n",
    "    image = cv2.resize(image, (224, 224))\n",
    "    image = image.astype('float32')\n",
    "    image /= 255.\n",
    "    dataset.append(image)\n",
    "dataset = np.array(dataset)\n",
    "# final_train_data = zip(dataset, target_labels)\n",
    "print(dataset.shape)"
   ]
  },
  {
   "cell_type": "code",
   "execution_count": 34,
   "id": "551b4115",
   "metadata": {},
   "outputs": [
    {
     "data": {
      "text/plain": [
       "-1"
      ]
     },
     "execution_count": 34,
     "metadata": {},
     "output_type": "execute_result"
    }
   ],
   "source": [
    "img = cv2.imread('C:/Users/dell g3/Downloads/PolypsSet/train2019/Image/4.jpg')\n",
    "cv2.imshow('sample', img)\n",
    "cv2.waitKey(0)"
   ]
  },
  {
   "cell_type": "code",
   "execution_count": 44,
   "id": "ace5038d",
   "metadata": {},
   "outputs": [
    {
     "data": {
      "text/plain": [
       "numpy.ndarray"
      ]
     },
     "execution_count": 44,
     "metadata": {},
     "output_type": "execute_result"
    }
   ],
   "source": [
    "# for i, example_image in enumerate(dataset.take(3)):\n",
    "#   print(\"Image {} shape: {}\".format(i+1, example_image[0].shape))\n",
    "type(dataset)"
   ]
  },
  {
   "cell_type": "code",
   "execution_count": 2,
   "id": "db9169ec",
   "metadata": {},
   "outputs": [],
   "source": [
    "def plotImages(images_arr):\n",
    "    fig, axes = plt.subplots(1, 5, figsize=(20,20))\n",
    "    axes = axes.flatten()\n",
    "    for img, ax in zip( images_arr, axes):\n",
    "        ax.imshow(img)\n",
    "    plt.tight_layout()\n",
    "    plt.show()"
   ]
  },
  {
   "cell_type": "markdown",
   "id": "8d018fc2",
   "metadata": {},
   "source": [
    "## Experiments in Classifying the dataset "
   ]
  },
  {
   "cell_type": "code",
   "execution_count": 24,
   "id": "325c9fd8",
   "metadata": {},
   "outputs": [],
   "source": [
    "batch_size = 32\n",
    "IMG_SHAPE = 150\n",
    "base_dir = 'C:/Users/dell g3/Downloads/PolypsSet/train2019'\n",
    "val_base_dir = 'C:/Users/dell g3/Downloads/PolypsSet/val2019/ImageVal'"
   ]
  },
  {
   "cell_type": "code",
   "execution_count": 25,
   "id": "b5ab0038",
   "metadata": {},
   "outputs": [],
   "source": [
    "train_dir = os.path.join(base_dir, 'Data_Splitted_Annot')\n",
    "val_dir = os.path.join(val_base_dir, 'Images_Annot')"
   ]
  },
  {
   "cell_type": "code",
   "execution_count": 26,
   "id": "2404af56",
   "metadata": {},
   "outputs": [],
   "source": [
    "# image_gen_train = ImageDataGenerator(\n",
    "#                     rescale=1./255\n",
    "#                     rotation_range=45,\n",
    "#                     width_shift_range=.15,\n",
    "#                     height_shift_range=.15,\n",
    "#                     horizontal_flip=True,\n",
    "#                     zoom_range=0.5\n",
    "#                     )\n",
    "\n",
    "\n",
    "# train_data_gen = image_gen_train.flow_from_directory(\n",
    "#                                                 batch_size=batch_size,\n",
    "#                                                 directory=train_dir,\n",
    "#                                                 shuffle=True,\n",
    "#                                                 target_size=(IMG_SHAPE,IMG_SHAPE),\n",
    "#                                                 class_mode='binary'\n",
    "#                                                 )"
   ]
  },
  {
   "cell_type": "code",
   "execution_count": 27,
   "id": "5e929020",
   "metadata": {},
   "outputs": [],
   "source": [
    "# augmented_images = [train_data_gen[0][0][0] for i in range(5)]\n",
    "# plotImages(augmented_images)"
   ]
  },
  {
   "cell_type": "code",
   "execution_count": 28,
   "id": "54956651",
   "metadata": {},
   "outputs": [],
   "source": [
    "# image_gen_val = ImageDataGenerator(rescale=1./255)\n",
    "\n",
    "# val_data_gen = image_gen_val.flow_from_directory(batch_size=batch_size,\n",
    "#                                                  directory=val_dir,\n",
    "#                                                  target_size=(IMG_SHAPE, IMG_SHAPE),\n",
    "#                                                  class_mode='binary')"
   ]
  },
  {
   "cell_type": "code",
   "execution_count": 29,
   "id": "69bafc41",
   "metadata": {},
   "outputs": [
    {
     "name": "stdout",
     "output_type": "stream",
     "text": [
      "Found 27047 files belonging to 2 classes.\n"
     ]
    }
   ],
   "source": [
    "training_data = tf.keras.utils.image_dataset_from_directory(directory = train_dir,\n",
    "                                                           labels = 'inferred',\n",
    "                                                           label_mode='binary',\n",
    "                                                           batch_size=batch_size,\n",
    "                                                           image_size=(IMG_SHAPE, IMG_SHAPE),\n",
    "                                                           shuffle=True,\n",
    "                                                           color_mode='rgb')\n"
   ]
  },
  {
   "cell_type": "code",
   "execution_count": 30,
   "id": "08f60e72",
   "metadata": {},
   "outputs": [
    {
     "name": "stdout",
     "output_type": "stream",
     "text": [
      "Found 4213 files belonging to 2 classes.\n"
     ]
    }
   ],
   "source": [
    "val_data = tf.keras.utils.image_dataset_from_directory(directory = val_dir,\n",
    "                                                           labels = 'inferred',\n",
    "                                                           label_mode='binary',\n",
    "                                                           batch_size=batch_size,\n",
    "                                                           image_size=(IMG_SHAPE, IMG_SHAPE),\n",
    "                                                           color_mode='rgb')"
   ]
  },
  {
   "cell_type": "code",
   "execution_count": 31,
   "id": "f3a30bad",
   "metadata": {},
   "outputs": [],
   "source": [
    "@tf.function\n",
    "def map_fn(img, label):\n",
    "    image_height = IMG_SHAPE\n",
    "    image_width = IMG_SHAPE\n",
    "    img = tf.image.resize(img, [image_height, image_width])\n",
    "    img /= 255\n",
    "    return img, label\n",
    "device = '/gpu:0' if tf.config.list_physical_devices('GPU') else '/cpu:0'"
   ]
  },
  {
   "cell_type": "code",
   "execution_count": 32,
   "id": "58b0f6a1",
   "metadata": {},
   "outputs": [],
   "source": [
    "triann = training_data.map(map_fn)\n",
    "vall = val_data.map(map_fn)"
   ]
  },
  {
   "cell_type": "code",
   "execution_count": 16,
   "id": "cecacb37",
   "metadata": {},
   "outputs": [
    {
     "name": "stdout",
     "output_type": "stream",
     "text": [
      "WARNING:tensorflow:Please fix your imports. Module tensorflow.python.training.tracking.data_structures has been moved to tensorflow.python.trackable.data_structures. The old module will be deleted in version 2.11.\n"
     ]
    }
   ],
   "source": [
    "URL = \"https://tfhub.dev/google/tf2-preview/mobilenet_v2/feature_vector/4\"\n",
    "feature_extractor = hub.KerasLayer(URL,\n",
    "                                   input_shape=(IMG_SHAPE, IMG_SHAPE, 3))"
   ]
  },
  {
   "cell_type": "code",
   "execution_count": 17,
   "id": "d91c31d3",
   "metadata": {},
   "outputs": [],
   "source": [
    "feature_extractor.trainable = False"
   ]
  },
  {
   "cell_type": "code",
   "execution_count": 18,
   "id": "8259bb07",
   "metadata": {},
   "outputs": [
    {
     "name": "stdout",
     "output_type": "stream",
     "text": [
      "Model: \"sequential\"\n",
      "_________________________________________________________________\n",
      " Layer (type)                Output Shape              Param #   \n",
      "=================================================================\n",
      " keras_layer (KerasLayer)    (None, 1280)              2257984   \n",
      "                                                                 \n",
      " dense (Dense)               (None, 2)                 2562      \n",
      "                                                                 \n",
      "=================================================================\n",
      "Total params: 2,260,546\n",
      "Trainable params: 2,562\n",
      "Non-trainable params: 2,257,984\n",
      "_________________________________________________________________\n"
     ]
    }
   ],
   "source": [
    "\n",
    "EPOCHS = 2\n",
    "with tf.device(device_name=device):\n",
    "    \n",
    "    model = keras.Sequential([feature_extractor, keras.layers.Dense(2)])\n",
    "\n",
    "    model.summary()"
   ]
  },
  {
   "cell_type": "code",
   "execution_count": 19,
   "id": "844f9bb7",
   "metadata": {},
   "outputs": [
    {
     "data": {
      "text/plain": [
       "[PhysicalDevice(name='/physical_device:GPU:0', device_type='GPU')]"
      ]
     },
     "execution_count": 19,
     "metadata": {},
     "output_type": "execute_result"
    }
   ],
   "source": [
    "tf.config.experimental.list_physical_devices('GPU')"
   ]
  },
  {
   "cell_type": "code",
   "execution_count": 20,
   "id": "47947734",
   "metadata": {},
   "outputs": [],
   "source": [
    "num_training_examples = 27048\n",
    "\n",
    "train_batches = training_data.shuffle(num_training_examples//4).map(map_fn)\n",
    "validation_batches = val_data.map(map_fn)"
   ]
  },
  {
   "cell_type": "code",
   "execution_count": 21,
   "id": "e7b0a243",
   "metadata": {},
   "outputs": [],
   "source": [
    "# model.compile(\n",
    "#   optimizer='adam',\n",
    "#   loss=tf.keras.losses.SparseCategoricalCrossentropy(),\n",
    "#   metrics=['accuracy'])\n",
    "\n",
    "\n",
    "# history = model.fit(train_data_gen,\n",
    "#                     epochs=EPOCHS,\n",
    "#                     validation_data=val_data_gen)"
   ]
  },
  {
   "cell_type": "code",
   "execution_count": 22,
   "id": "e4e1017e",
   "metadata": {},
   "outputs": [],
   "source": [
    "with tf.device(device_name=device):\n",
    "    \n",
    "    model.compile(optimizer='adam',\n",
    "                  loss=tf.keras.losses.SparseCategoricalCrossentropy(),\n",
    "                  metrics=['accuracy'])\n",
    "\n",
    "#epochs = 10\n"
   ]
  },
  {
   "cell_type": "code",
   "execution_count": 23,
   "id": "a361df9d",
   "metadata": {},
   "outputs": [
    {
     "name": "stdout",
     "output_type": "stream",
     "text": [
      "Epoch 1/6\n",
      "846/846 [==============================] - 152s 81ms/step - loss: 0.7135 - accuracy: 0.4762 - val_loss: 0.6931 - val_accuracy: 0.3947\n",
      "Epoch 2/6\n",
      "846/846 [==============================] - 131s 81ms/step - loss: 0.6931 - accuracy: 0.4752 - val_loss: 0.6931 - val_accuracy: 0.3947\n",
      "Epoch 3/6\n",
      "846/846 [==============================] - 113s 80ms/step - loss: 0.6931 - accuracy: 0.4752 - val_loss: 0.6931 - val_accuracy: 0.3947\n",
      "Epoch 4/6\n",
      "846/846 [==============================] - 109s 80ms/step - loss: 0.6931 - accuracy: 0.4752 - val_loss: 0.6931 - val_accuracy: 0.3947\n",
      "Epoch 5/6\n",
      "846/846 [==============================] - 111s 80ms/step - loss: 0.6931 - accuracy: 0.4752 - val_loss: 0.6931 - val_accuracy: 0.3947\n",
      "Epoch 6/6\n",
      "846/846 [==============================] - 109s 81ms/step - loss: 0.6931 - accuracy: 0.4752 - val_loss: 0.6931 - val_accuracy: 0.3947\n"
     ]
    }
   ],
   "source": [
    "EPOCHS = 6\n",
    "with tf.device(device_name=device):\n",
    "    history = model.fit(\n",
    "        train_batches,\n",
    "        epochs=EPOCHS,\n",
    "        validation_data=validation_batches,\n",
    "        )"
   ]
  },
  {
   "cell_type": "code",
   "execution_count": 37,
   "id": "4c050804",
   "metadata": {},
   "outputs": [
    {
     "name": "stdout",
     "output_type": "stream",
     "text": [
      "Model: \"sequential_2\"\n",
      "_________________________________________________________________\n",
      " Layer (type)                Output Shape              Param #   \n",
      "=================================================================\n",
      " keras_layer_2 (KerasLayer)  (None, 2048)              21802784  \n",
      "                                                                 \n",
      " dense_2 (Dense)             (None, 2)                 4098      \n",
      "                                                                 \n",
      "=================================================================\n",
      "Total params: 21,806,882\n",
      "Trainable params: 4,098\n",
      "Non-trainable params: 21,802,784\n",
      "_________________________________________________________________\n"
     ]
    }
   ],
   "source": [
    "IMAGE_RES = 299\n",
    "\n",
    "URL = \"https://tfhub.dev/google/tf2-preview/inception_v3/feature_vector/4\"\n",
    "feature_extractor = hub.KerasLayer(URL,\n",
    "  input_shape=(IMAGE_RES, IMAGE_RES, 3),\n",
    "  trainable=False)\n",
    "with tf.device(device_name=device):\n",
    "    \n",
    "    model_inception = tf.keras.Sequential([\n",
    "      feature_extractor,\n",
    "      tf.keras.layers.Dense(2)\n",
    "    ])\n",
    "\n",
    "    model_inception.summary()"
   ]
  },
  {
   "cell_type": "code",
   "execution_count": 38,
   "id": "fdf2b279",
   "metadata": {},
   "outputs": [],
   "source": [
    "with tf.device(device_name=device):\n",
    "    \n",
    "    model_inception.compile(\n",
    "      optimizer='adam', \n",
    "      loss=tf.keras.losses.SparseCategoricalCrossentropy(from_logits=True),\n",
    "      metrics=['accuracy'])\n"
   ]
  },
  {
   "cell_type": "code",
   "execution_count": 39,
   "id": "dd9f7923",
   "metadata": {},
   "outputs": [
    {
     "name": "stdout",
     "output_type": "stream",
     "text": [
      "Epoch 1/6\n",
      "846/846 [==============================] - 528s 576ms/step - loss: 0.3914 - accuracy: 0.8260 - val_loss: 0.9461 - val_accuracy: 0.5301\n",
      "Epoch 2/6\n",
      "846/846 [==============================] - 515s 608ms/step - loss: 0.2681 - accuracy: 0.8997 - val_loss: 1.0812 - val_accuracy: 0.5331\n",
      "Epoch 3/6\n",
      "846/846 [==============================] - 245s 289ms/step - loss: 0.2291 - accuracy: 0.9152 - val_loss: 1.0827 - val_accuracy: 0.5411\n",
      "Epoch 4/6\n",
      "846/846 [==============================] - 251s 296ms/step - loss: 0.1978 - accuracy: 0.9300 - val_loss: 1.0785 - val_accuracy: 0.5550\n",
      "Epoch 5/6\n",
      "846/846 [==============================] - 251s 297ms/step - loss: 0.1829 - accuracy: 0.9368 - val_loss: 1.0968 - val_accuracy: 0.5628\n",
      "Epoch 6/6\n",
      "846/846 [==============================] - 252s 297ms/step - loss: 0.1677 - accuracy: 0.9414 - val_loss: 1.1491 - val_accuracy: 0.5562\n"
     ]
    }
   ],
   "source": [
    "EPOCHS = 6\n",
    "with tf.device(device_name=device):\n",
    "    \n",
    "    history = model_inception.fit(triann,\n",
    "                        epochs=EPOCHS,\n",
    "                        validation_data=vall)"
   ]
  },
  {
   "cell_type": "code",
   "execution_count": 19,
   "id": "0585e879",
   "metadata": {},
   "outputs": [
    {
     "name": "stdout",
     "output_type": "stream",
     "text": [
      "Model: \"sequential_1\"\n",
      "_________________________________________________________________\n",
      " Layer (type)                Output Shape              Param #   \n",
      "=================================================================\n",
      " keras_layer_1 (KerasLayer)  (None, 10)                7796426   \n",
      "                                                                 \n",
      " dense_1 (Dense)             (None, 2)                 22        \n",
      "                                                                 \n",
      "=================================================================\n",
      "Total params: 7,796,448\n",
      "Trainable params: 22\n",
      "Non-trainable params: 7,796,426\n",
      "_________________________________________________________________\n"
     ]
    }
   ],
   "source": [
    "url2 = 'https://tfhub.dev/deepmind/ganeval-cifar10-convnet/1'\n",
    "feature_extractor = hub.KerasLayer(url2,\n",
    "  input_shape=(32, 32, 3),\n",
    "  trainable=False)\n",
    "with tf.device(device_name=device):\n",
    "    \n",
    "    model_covnet = tf.keras.Sequential([\n",
    "      feature_extractor,\n",
    "      tf.keras.layers.Dense(2)\n",
    "    ])\n",
    "\n",
    "    model_covnet.summary()"
   ]
  },
  {
   "cell_type": "code",
   "execution_count": 20,
   "id": "c6c9e390",
   "metadata": {},
   "outputs": [],
   "source": [
    "with tf.device(device_name=device):\n",
    "    \n",
    "    model_covnet.compile(\n",
    "      optimizer='adam', \n",
    "      loss=tf.keras.losses.SparseCategoricalCrossentropy(from_logits=True),\n",
    "      metrics=['accuracy'])\n"
   ]
  },
  {
   "cell_type": "code",
   "execution_count": 21,
   "id": "7955d33c",
   "metadata": {},
   "outputs": [
    {
     "name": "stdout",
     "output_type": "stream",
     "text": [
      "Epoch 1/6\n"
     ]
    },
    {
     "ename": "ValueError",
     "evalue": "in user code:\n\n    File \"C:\\Users\\dell g3\\anaconda3\\envs\\myenv\\lib\\site-packages\\keras\\engine\\training.py\", line 1160, in train_function  *\n        return step_function(self, iterator)\n    File \"C:\\Users\\dell g3\\anaconda3\\envs\\myenv\\lib\\site-packages\\keras\\engine\\training.py\", line 1146, in step_function  **\n        outputs = model.distribute_strategy.run(run_step, args=(data,))\n    File \"C:\\Users\\dell g3\\anaconda3\\envs\\myenv\\lib\\site-packages\\keras\\engine\\training.py\", line 1135, in run_step  **\n        outputs = model.train_step(data)\n    File \"C:\\Users\\dell g3\\anaconda3\\envs\\myenv\\lib\\site-packages\\keras\\engine\\training.py\", line 993, in train_step\n        y_pred = self(x, training=True)\n    File \"C:\\Users\\dell g3\\anaconda3\\envs\\myenv\\lib\\site-packages\\keras\\utils\\traceback_utils.py\", line 70, in error_handler\n        raise e.with_traceback(filtered_tb) from None\n    File \"C:\\Users\\dell g3\\anaconda3\\envs\\myenv\\lib\\site-packages\\keras\\engine\\input_spec.py\", line 295, in assert_input_compatibility\n        raise ValueError(\n\n    ValueError: Input 0 of layer \"sequential_1\" is incompatible with the layer: expected shape=(None, 32, 32, 3), found shape=(None, 299, 299, 3)\n",
     "output_type": "error",
     "traceback": [
      "\u001b[1;31m---------------------------------------------------------------------------\u001b[0m",
      "\u001b[1;31mValueError\u001b[0m                                Traceback (most recent call last)",
      "Cell \u001b[1;32mIn[21], line 4\u001b[0m\n\u001b[0;32m      1\u001b[0m EPOCHS \u001b[38;5;241m=\u001b[39m \u001b[38;5;241m6\u001b[39m\n\u001b[0;32m      2\u001b[0m \u001b[38;5;28;01mwith\u001b[39;00m tf\u001b[38;5;241m.\u001b[39mdevice(device_name\u001b[38;5;241m=\u001b[39mdevice):\n\u001b[1;32m----> 4\u001b[0m     history \u001b[38;5;241m=\u001b[39m \u001b[43mmodel_covnet\u001b[49m\u001b[38;5;241;43m.\u001b[39;49m\u001b[43mfit\u001b[49m\u001b[43m(\u001b[49m\u001b[43mtriann\u001b[49m\u001b[43m,\u001b[49m\n\u001b[0;32m      5\u001b[0m \u001b[43m                        \u001b[49m\u001b[43mepochs\u001b[49m\u001b[38;5;241;43m=\u001b[39;49m\u001b[43mEPOCHS\u001b[49m\u001b[43m,\u001b[49m\n\u001b[0;32m      6\u001b[0m \u001b[43m                        \u001b[49m\u001b[43mvalidation_data\u001b[49m\u001b[38;5;241;43m=\u001b[39;49m\u001b[43mvall\u001b[49m\u001b[43m)\u001b[49m\n",
      "File \u001b[1;32m~\\anaconda3\\envs\\myenv\\lib\\site-packages\\keras\\utils\\traceback_utils.py:70\u001b[0m, in \u001b[0;36mfilter_traceback.<locals>.error_handler\u001b[1;34m(*args, **kwargs)\u001b[0m\n\u001b[0;32m     67\u001b[0m     filtered_tb \u001b[38;5;241m=\u001b[39m _process_traceback_frames(e\u001b[38;5;241m.\u001b[39m__traceback__)\n\u001b[0;32m     68\u001b[0m     \u001b[38;5;66;03m# To get the full stack trace, call:\u001b[39;00m\n\u001b[0;32m     69\u001b[0m     \u001b[38;5;66;03m# `tf.debugging.disable_traceback_filtering()`\u001b[39;00m\n\u001b[1;32m---> 70\u001b[0m     \u001b[38;5;28;01mraise\u001b[39;00m e\u001b[38;5;241m.\u001b[39mwith_traceback(filtered_tb) \u001b[38;5;28;01mfrom\u001b[39;00m \u001b[38;5;28mNone\u001b[39m\n\u001b[0;32m     71\u001b[0m \u001b[38;5;28;01mfinally\u001b[39;00m:\n\u001b[0;32m     72\u001b[0m     \u001b[38;5;28;01mdel\u001b[39;00m filtered_tb\n",
      "File \u001b[1;32mC:\\Users\\DELLG3~1\\AppData\\Local\\Temp\\__autograph_generated_file0s0u79iu.py:15\u001b[0m, in \u001b[0;36mouter_factory.<locals>.inner_factory.<locals>.tf__train_function\u001b[1;34m(iterator)\u001b[0m\n\u001b[0;32m     13\u001b[0m \u001b[38;5;28;01mtry\u001b[39;00m:\n\u001b[0;32m     14\u001b[0m     do_return \u001b[38;5;241m=\u001b[39m \u001b[38;5;28;01mTrue\u001b[39;00m\n\u001b[1;32m---> 15\u001b[0m     retval_ \u001b[38;5;241m=\u001b[39m ag__\u001b[38;5;241m.\u001b[39mconverted_call(ag__\u001b[38;5;241m.\u001b[39mld(step_function), (ag__\u001b[38;5;241m.\u001b[39mld(\u001b[38;5;28mself\u001b[39m), ag__\u001b[38;5;241m.\u001b[39mld(iterator)), \u001b[38;5;28;01mNone\u001b[39;00m, fscope)\n\u001b[0;32m     16\u001b[0m \u001b[38;5;28;01mexcept\u001b[39;00m:\n\u001b[0;32m     17\u001b[0m     do_return \u001b[38;5;241m=\u001b[39m \u001b[38;5;28;01mFalse\u001b[39;00m\n",
      "\u001b[1;31mValueError\u001b[0m: in user code:\n\n    File \"C:\\Users\\dell g3\\anaconda3\\envs\\myenv\\lib\\site-packages\\keras\\engine\\training.py\", line 1160, in train_function  *\n        return step_function(self, iterator)\n    File \"C:\\Users\\dell g3\\anaconda3\\envs\\myenv\\lib\\site-packages\\keras\\engine\\training.py\", line 1146, in step_function  **\n        outputs = model.distribute_strategy.run(run_step, args=(data,))\n    File \"C:\\Users\\dell g3\\anaconda3\\envs\\myenv\\lib\\site-packages\\keras\\engine\\training.py\", line 1135, in run_step  **\n        outputs = model.train_step(data)\n    File \"C:\\Users\\dell g3\\anaconda3\\envs\\myenv\\lib\\site-packages\\keras\\engine\\training.py\", line 993, in train_step\n        y_pred = self(x, training=True)\n    File \"C:\\Users\\dell g3\\anaconda3\\envs\\myenv\\lib\\site-packages\\keras\\utils\\traceback_utils.py\", line 70, in error_handler\n        raise e.with_traceback(filtered_tb) from None\n    File \"C:\\Users\\dell g3\\anaconda3\\envs\\myenv\\lib\\site-packages\\keras\\engine\\input_spec.py\", line 295, in assert_input_compatibility\n        raise ValueError(\n\n    ValueError: Input 0 of layer \"sequential_1\" is incompatible with the layer: expected shape=(None, 32, 32, 3), found shape=(None, 299, 299, 3)\n"
     ]
    }
   ],
   "source": [
    "EPOCHS = 6\n",
    "with tf.device(device_name=device):\n",
    "    \n",
    "    history = model_covnet.fit(triann,\n",
    "                        epochs=EPOCHS,\n",
    "                        validation_data=vall)"
   ]
  },
  {
   "cell_type": "code",
   "execution_count": 79,
   "id": "7fe69702",
   "metadata": {},
   "outputs": [],
   "source": [
    "from keras.applications.vgg19 import VGG19\n",
    "VGG = VGG19(input_shape=[224, 224, 3], weights='imagenet', include_top=False)\n"
   ]
  },
  {
   "cell_type": "code",
   "execution_count": 80,
   "id": "c1245630",
   "metadata": {},
   "outputs": [],
   "source": [
    "for layer in VGG.layers:\n",
    "  layer.trainable = False"
   ]
  },
  {
   "cell_type": "code",
   "execution_count": 87,
   "id": "4811fea1",
   "metadata": {},
   "outputs": [
    {
     "name": "stdout",
     "output_type": "stream",
     "text": [
      "Model: \"model_2\"\n",
      "_________________________________________________________________\n",
      " Layer (type)                Output Shape              Param #   \n",
      "=================================================================\n",
      " input_4 (InputLayer)        [(None, 224, 224, 3)]     0         \n",
      "                                                                 \n",
      " block1_conv1 (Conv2D)       (None, 224, 224, 64)      1792      \n",
      "                                                                 \n",
      " block1_conv2 (Conv2D)       (None, 224, 224, 64)      36928     \n",
      "                                                                 \n",
      " block1_pool (MaxPooling2D)  (None, 112, 112, 64)      0         \n",
      "                                                                 \n",
      " block2_conv1 (Conv2D)       (None, 112, 112, 128)     73856     \n",
      "                                                                 \n",
      " block2_conv2 (Conv2D)       (None, 112, 112, 128)     147584    \n",
      "                                                                 \n",
      " block2_pool (MaxPooling2D)  (None, 56, 56, 128)       0         \n",
      "                                                                 \n",
      " block3_conv1 (Conv2D)       (None, 56, 56, 256)       295168    \n",
      "                                                                 \n",
      " block3_conv2 (Conv2D)       (None, 56, 56, 256)       590080    \n",
      "                                                                 \n",
      " block3_conv3 (Conv2D)       (None, 56, 56, 256)       590080    \n",
      "                                                                 \n",
      " block3_conv4 (Conv2D)       (None, 56, 56, 256)       590080    \n",
      "                                                                 \n",
      " block3_pool (MaxPooling2D)  (None, 28, 28, 256)       0         \n",
      "                                                                 \n",
      " block4_conv1 (Conv2D)       (None, 28, 28, 512)       1180160   \n",
      "                                                                 \n",
      " block4_conv2 (Conv2D)       (None, 28, 28, 512)       2359808   \n",
      "                                                                 \n",
      " block4_conv3 (Conv2D)       (None, 28, 28, 512)       2359808   \n",
      "                                                                 \n",
      " block4_conv4 (Conv2D)       (None, 28, 28, 512)       2359808   \n",
      "                                                                 \n",
      " block4_pool (MaxPooling2D)  (None, 14, 14, 512)       0         \n",
      "                                                                 \n",
      " block5_conv1 (Conv2D)       (None, 14, 14, 512)       2359808   \n",
      "                                                                 \n",
      " block5_conv2 (Conv2D)       (None, 14, 14, 512)       2359808   \n",
      "                                                                 \n",
      " block5_conv3 (Conv2D)       (None, 14, 14, 512)       2359808   \n",
      "                                                                 \n",
      " block5_conv4 (Conv2D)       (None, 14, 14, 512)       2359808   \n",
      "                                                                 \n",
      " block5_pool (MaxPooling2D)  (None, 7, 7, 512)         0         \n",
      "                                                                 \n",
      " flatten_3 (Flatten)         (None, 25088)             0         \n",
      "                                                                 \n",
      " dense_9 (Dense)             (None, 2)                 50178     \n",
      "                                                                 \n",
      "=================================================================\n",
      "Total params: 20,074,562\n",
      "Trainable params: 50,178\n",
      "Non-trainable params: 20,024,384\n",
      "_________________________________________________________________\n"
     ]
    }
   ],
   "source": [
    "with tf.device(device_name=device):\n",
    "\n",
    "    x = tf.keras.layers.Flatten()(VGG.output) \n",
    "    prediction = tf.keras.layers.Dense(2)(x) \n",
    "    model_VGG = tf.keras.Model(inputs=VGG.input, outputs=prediction)\n",
    "    model_VGG.summary()"
   ]
  },
  {
   "cell_type": "code",
   "execution_count": 88,
   "id": "2b16c584",
   "metadata": {},
   "outputs": [],
   "source": [
    "with tf.device(device_name=device):\n",
    "    \n",
    "    model_VGG.compile(\n",
    "      optimizer='adam', \n",
    "      loss=tf.keras.losses.SparseCategoricalCrossentropy(from_logits=True),\n",
    "      metrics=['accuracy'])"
   ]
  },
  {
   "cell_type": "code",
   "execution_count": 89,
   "id": "e0fc794a",
   "metadata": {},
   "outputs": [
    {
     "name": "stdout",
     "output_type": "stream",
     "text": [
      "Epoch 1/6\n",
      "846/846 [==============================] - 220s 259ms/step - loss: 0.1759 - accuracy: 0.9407 - val_loss: 1.6243 - val_accuracy: 0.4471\n",
      "Epoch 2/6\n",
      "846/846 [==============================] - 212s 251ms/step - loss: 0.0386 - accuracy: 0.9913 - val_loss: 1.8852 - val_accuracy: 0.4633\n",
      "Epoch 3/6\n",
      "846/846 [==============================] - 283s 334ms/step - loss: 0.0233 - accuracy: 0.9947 - val_loss: 2.1611 - val_accuracy: 0.4718\n",
      "Epoch 4/6\n",
      "846/846 [==============================] - 581s 686ms/step - loss: 0.0171 - accuracy: 0.9960 - val_loss: 2.3115 - val_accuracy: 0.4925\n",
      "Epoch 5/6\n",
      "846/846 [==============================] - 582s 687ms/step - loss: 0.0125 - accuracy: 0.9971 - val_loss: 2.7982 - val_accuracy: 0.4415\n",
      "Epoch 6/6\n",
      "846/846 [==============================] - 582s 687ms/step - loss: 0.0085 - accuracy: 0.9980 - val_loss: 3.1780 - val_accuracy: 0.4229\n"
     ]
    }
   ],
   "source": [
    "EPOCHS = 6\n",
    "with tf.device(device_name=device):\n",
    "    \n",
    "    history = model_VGG.fit(triann,\n",
    "                        epochs=EPOCHS,\n",
    "                        validation_data=vall)"
   ]
  },
  {
   "cell_type": "code",
   "execution_count": 49,
   "id": "ec216b10",
   "metadata": {},
   "outputs": [
    {
     "name": "stdout",
     "output_type": "stream",
     "text": [
      "Model: \"sequential_3\"\n",
      "_________________________________________________________________\n",
      " Layer (type)                Output Shape              Param #   \n",
      "=================================================================\n",
      " keras_layer_3 (KerasLayer)  (None, 1024)              5607184   \n",
      "                                                                 \n",
      " dense_3 (Dense)             (None, 2)                 2050      \n",
      "                                                                 \n",
      "=================================================================\n",
      "Total params: 5,609,234\n",
      "Trainable params: 2,050\n",
      "Non-trainable params: 5,607,184\n",
      "_________________________________________________________________\n"
     ]
    }
   ],
   "source": [
    "IMAGE_RES = 224\n",
    "\n",
    "URL = \"https://tfhub.dev/google/imagenet/inception_v1/feature_vector/5\"\n",
    "feature_extractor = hub.KerasLayer(URL,\n",
    "  input_shape=(IMAGE_RES, IMAGE_RES, 3),\n",
    "  trainable=False)\n",
    "with tf.device(device_name=device):\n",
    "    \n",
    "    model_inception1 = tf.keras.Sequential([\n",
    "      feature_extractor,\n",
    "      tf.keras.layers.Dense(2)\n",
    "    ])\n",
    "\n",
    "    model_inception1.summary()"
   ]
  },
  {
   "cell_type": "code",
   "execution_count": 50,
   "id": "ab3b6082",
   "metadata": {},
   "outputs": [],
   "source": [
    "with tf.device(device_name=device):\n",
    "    \n",
    "    model_inception1.compile(\n",
    "      optimizer='adam', \n",
    "      loss=tf.keras.losses.SparseCategoricalCrossentropy(from_logits=True),\n",
    "      metrics=['accuracy'])\n"
   ]
  },
  {
   "cell_type": "code",
   "execution_count": 51,
   "id": "d4ca1e21",
   "metadata": {},
   "outputs": [
    {
     "name": "stdout",
     "output_type": "stream",
     "text": [
      "Epoch 1/6\n",
      "846/846 [==============================] - 90s 100ms/step - loss: 0.4449 - accuracy: 0.7945 - val_loss: 0.8445 - val_accuracy: 0.5736\n",
      "Epoch 2/6\n",
      "846/846 [==============================] - 84s 99ms/step - loss: 0.3339 - accuracy: 0.8658 - val_loss: 0.8418 - val_accuracy: 0.5926\n",
      "Epoch 3/6\n",
      "846/846 [==============================] - 85s 100ms/step - loss: 0.2929 - accuracy: 0.8855 - val_loss: 0.8617 - val_accuracy: 0.5950\n",
      "Epoch 4/6\n",
      "846/846 [==============================] - 85s 100ms/step - loss: 0.2643 - accuracy: 0.9012 - val_loss: 0.8797 - val_accuracy: 0.5992\n",
      "Epoch 5/6\n",
      "846/846 [==============================] - 85s 100ms/step - loss: 0.2474 - accuracy: 0.9101 - val_loss: 0.9056 - val_accuracy: 0.5983\n",
      "Epoch 6/6\n",
      "846/846 [==============================] - 86s 101ms/step - loss: 0.2319 - accuracy: 0.9154 - val_loss: 0.9076 - val_accuracy: 0.6051\n"
     ]
    }
   ],
   "source": [
    "EPOCHS = 6\n",
    "with tf.device(device_name=device):\n",
    "    \n",
    "    history = model_inception1.fit(triann,\n",
    "                        epochs=EPOCHS,\n",
    "                        validation_data=vall)"
   ]
  },
  {
   "cell_type": "code",
   "execution_count": 52,
   "id": "81f1d468",
   "metadata": {},
   "outputs": [
    {
     "name": "stdout",
     "output_type": "stream",
     "text": [
      "Model: \"sequential_4\"\n",
      "_________________________________________________________________\n",
      " Layer (type)                Output Shape              Param #   \n",
      "=================================================================\n",
      " keras_layer_4 (KerasLayer)  (None, 1024)              10173112  \n",
      "                                                                 \n",
      " dense_4 (Dense)             (None, 2)                 2050      \n",
      "                                                                 \n",
      "=================================================================\n",
      "Total params: 10,175,162\n",
      "Trainable params: 2,050\n",
      "Non-trainable params: 10,173,112\n",
      "_________________________________________________________________\n"
     ]
    }
   ],
   "source": [
    "IMAGE_RES = 224\n",
    "\n",
    "URL = \"https://tfhub.dev/google/imagenet/inception_v2/feature_vector/5\"\n",
    "feature_extractor = hub.KerasLayer(URL,\n",
    "  input_shape=(IMAGE_RES, IMAGE_RES, 3),\n",
    "  trainable=False)\n",
    "with tf.device(device_name=device):\n",
    "    \n",
    "    model_inception2 = tf.keras.Sequential([\n",
    "      feature_extractor,\n",
    "      tf.keras.layers.Dense(2)\n",
    "    ])\n",
    "\n",
    "    model_inception2.summary()"
   ]
  },
  {
   "cell_type": "code",
   "execution_count": 53,
   "id": "6f63ffa1",
   "metadata": {},
   "outputs": [],
   "source": [
    "with tf.device(device_name=device):\n",
    "    \n",
    "    model_inception2.compile(\n",
    "      optimizer='adam', \n",
    "      loss=tf.keras.losses.SparseCategoricalCrossentropy(from_logits=True),\n",
    "      metrics=['accuracy'])\n"
   ]
  },
  {
   "cell_type": "code",
   "execution_count": 54,
   "id": "30a3947e",
   "metadata": {},
   "outputs": [
    {
     "name": "stdout",
     "output_type": "stream",
     "text": [
      "Epoch 1/6\n",
      "846/846 [==============================] - 114s 128ms/step - loss: 0.4504 - accuracy: 0.7963 - val_loss: 0.8400 - val_accuracy: 0.5343\n",
      "Epoch 2/6\n",
      "846/846 [==============================] - 109s 128ms/step - loss: 0.3295 - accuracy: 0.8678 - val_loss: 0.9055 - val_accuracy: 0.5517\n",
      "Epoch 3/6\n",
      "846/846 [==============================] - 109s 128ms/step - loss: 0.2886 - accuracy: 0.8890 - val_loss: 0.8988 - val_accuracy: 0.5649\n",
      "Epoch 4/6\n",
      "846/846 [==============================] - 109s 128ms/step - loss: 0.2656 - accuracy: 0.8992 - val_loss: 0.9221 - val_accuracy: 0.5628\n",
      "Epoch 5/6\n",
      "846/846 [==============================] - 108s 128ms/step - loss: 0.2476 - accuracy: 0.9085 - val_loss: 0.9508 - val_accuracy: 0.5818\n",
      "Epoch 6/6\n",
      "846/846 [==============================] - 109s 128ms/step - loss: 0.2334 - accuracy: 0.9126 - val_loss: 0.9461 - val_accuracy: 0.5797\n"
     ]
    }
   ],
   "source": [
    "EPOCHS = 6\n",
    "with tf.device(device_name=device):\n",
    "    \n",
    "    history = model_inception2.fit(triann,\n",
    "                        epochs=EPOCHS,\n",
    "                        validation_data=vall)"
   ]
  },
  {
   "cell_type": "code",
   "execution_count": 64,
   "id": "9d2cde09",
   "metadata": {},
   "outputs": [
    {
     "name": "stdout",
     "output_type": "stream",
     "text": [
      "Model: \"sequential_5\"\n",
      "_________________________________________________________________\n",
      " Layer (type)                Output Shape              Param #   \n",
      "=================================================================\n",
      " keras_layer_5 (KerasLayer)  (None, 2048)              21802784  \n",
      "                                                                 \n",
      " dense_5 (Dense)             (None, 2)                 4098      \n",
      "                                                                 \n",
      "=================================================================\n",
      "Total params: 21,806,882\n",
      "Trainable params: 4,098\n",
      "Non-trainable params: 21,802,784\n",
      "_________________________________________________________________\n"
     ]
    }
   ],
   "source": [
    "IMAGE_RES = 299\n",
    "\n",
    "URL = \"https://tfhub.dev/google/imagenet/inception_v3/feature_vector/5\"\n",
    "feature_extractor = hub.KerasLayer(URL,\n",
    "  input_shape=(IMAGE_RES, IMAGE_RES, 3),\n",
    "  trainable=False)\n",
    "with tf.device(device_name=device):\n",
    "    \n",
    "    model_inception3 = tf.keras.Sequential([\n",
    "      feature_extractor,\n",
    "      tf.keras.layers.Dense(2)\n",
    "    ])\n",
    "\n",
    "    model_inception3.summary()"
   ]
  },
  {
   "cell_type": "code",
   "execution_count": 65,
   "id": "fb36dafe",
   "metadata": {},
   "outputs": [],
   "source": [
    "with tf.device(device_name=device):\n",
    "    \n",
    "    model_inception3.compile(\n",
    "      optimizer='adam', \n",
    "      loss=tf.keras.losses.SparseCategoricalCrossentropy(from_logits=True),\n",
    "      metrics=['accuracy'])"
   ]
  },
  {
   "cell_type": "code",
   "execution_count": 66,
   "id": "d60a22a3",
   "metadata": {},
   "outputs": [
    {
     "name": "stdout",
     "output_type": "stream",
     "text": [
      "Epoch 1/6\n",
      "846/846 [==============================] - 252s 290ms/step - loss: 0.3984 - accuracy: 0.8245 - val_loss: 1.0281 - val_accuracy: 0.5261\n",
      "Epoch 2/6\n",
      "846/846 [==============================] - 249s 294ms/step - loss: 0.2744 - accuracy: 0.8947 - val_loss: 0.9975 - val_accuracy: 0.5339\n",
      "Epoch 3/6\n",
      "846/846 [==============================] - 249s 294ms/step - loss: 0.2281 - accuracy: 0.9161 - val_loss: 1.0389 - val_accuracy: 0.5463\n",
      "Epoch 4/6\n",
      "846/846 [==============================] - 247s 292ms/step - loss: 0.2041 - accuracy: 0.9256 - val_loss: 1.1014 - val_accuracy: 0.5555\n",
      "Epoch 5/6\n",
      "846/846 [==============================] - 250s 296ms/step - loss: 0.1845 - accuracy: 0.9340 - val_loss: 1.1188 - val_accuracy: 0.5541\n",
      "Epoch 6/6\n",
      "846/846 [==============================] - 253s 298ms/step - loss: 0.1700 - accuracy: 0.9404 - val_loss: 1.1976 - val_accuracy: 0.5407\n"
     ]
    }
   ],
   "source": [
    "EPOCHS = 6\n",
    "with tf.device(device_name=device):\n",
    "    \n",
    "    history = model_inception3.fit(triann,\n",
    "                        epochs=EPOCHS,\n",
    "                        validation_data=vall)"
   ]
  },
  {
   "cell_type": "code",
   "execution_count": 22,
   "id": "a0f2dcec",
   "metadata": {},
   "outputs": [
    {
     "name": "stdout",
     "output_type": "stream",
     "text": [
      "Model: \"sequential_2\"\n",
      "_________________________________________________________________\n",
      " Layer (type)                Output Shape              Param #   \n",
      "=================================================================\n",
      " keras_layer_2 (KerasLayer)  (None, 1536)              54336736  \n",
      "                                                                 \n",
      " dense_2 (Dense)             (None, 2)                 3074      \n",
      "                                                                 \n",
      "=================================================================\n",
      "Total params: 54,339,810\n",
      "Trainable params: 3,074\n",
      "Non-trainable params: 54,336,736\n",
      "_________________________________________________________________\n"
     ]
    }
   ],
   "source": [
    "IMAGE_RES = 299\n",
    "\n",
    "URL = \"https://tfhub.dev/google/imagenet/inception_resnet_v2/feature_vector/5\"\n",
    "feature_extractor = hub.KerasLayer(URL,\n",
    "  input_shape=(IMAGE_RES, IMAGE_RES, 3),\n",
    "  trainable=False)\n",
    "with tf.device(device_name=device):\n",
    "    \n",
    "    model_inceptionres = tf.keras.Sequential([\n",
    "      feature_extractor,\n",
    "      tf.keras.layers.Dense(2)\n",
    "    ])\n",
    "\n",
    "    model_inceptionres.summary()"
   ]
  },
  {
   "cell_type": "code",
   "execution_count": 23,
   "id": "03d52446",
   "metadata": {},
   "outputs": [],
   "source": [
    "with tf.device(device_name=device):\n",
    "    \n",
    "    model_inceptionres.compile(\n",
    "      optimizer='adam', \n",
    "      loss=tf.keras.losses.SparseCategoricalCrossentropy(from_logits=True),\n",
    "      metrics=['accuracy'])"
   ]
  },
  {
   "cell_type": "code",
   "execution_count": 24,
   "id": "68f89e0f",
   "metadata": {},
   "outputs": [
    {
     "name": "stdout",
     "output_type": "stream",
     "text": [
      "Epoch 1/6\n",
      "846/846 [==============================] - 926s 1s/step - loss: 0.4504 - accuracy: 0.7934 - val_loss: 0.7000 - val_accuracy: 0.6220\n",
      "Epoch 2/6\n",
      "846/846 [==============================] - 578s 683ms/step - loss: 0.3114 - accuracy: 0.8815 - val_loss: 0.7422 - val_accuracy: 0.6258\n",
      "Epoch 3/6\n",
      "846/846 [==============================] - 583s 689ms/step - loss: 0.2666 - accuracy: 0.9020 - val_loss: 0.7952 - val_accuracy: 0.6265\n",
      "Epoch 4/6\n",
      "846/846 [==============================] - 586s 692ms/step - loss: 0.2383 - accuracy: 0.9129 - val_loss: 0.8306 - val_accuracy: 0.6370\n",
      "Epoch 5/6\n",
      "846/846 [==============================] - 585s 691ms/step - loss: 0.2200 - accuracy: 0.9206 - val_loss: 0.8321 - val_accuracy: 0.6335\n",
      "Epoch 6/6\n",
      "846/846 [==============================] - 586s 692ms/step - loss: 0.2047 - accuracy: 0.9271 - val_loss: 0.8463 - val_accuracy: 0.6305\n"
     ]
    }
   ],
   "source": [
    "EPOCHS = 6\n",
    "with tf.device(device_name=device):\n",
    "    \n",
    "    history = model_inceptionres.fit(triann,\n",
    "                        epochs=EPOCHS,\n",
    "                        validation_data=vall)"
   ]
  },
  {
   "cell_type": "code",
   "execution_count": 34,
   "id": "21743991",
   "metadata": {},
   "outputs": [
    {
     "name": "stdout",
     "output_type": "stream",
     "text": [
      "Model: \"sequential_3\"\n",
      "_________________________________________________________________\n",
      " Layer (type)                Output Shape              Param #   \n",
      "=================================================================\n",
      " keras_layer_3 (KerasLayer)  (None, 1, 1, 1408)        9583872   \n",
      "                                                                 \n",
      " dense_3 (Dense)             (None, 1, 1, 2)           2818      \n",
      "                                                                 \n",
      "=================================================================\n",
      "Total params: 9,586,690\n",
      "Trainable params: 2,818\n",
      "Non-trainable params: 9,583,872\n",
      "_________________________________________________________________\n"
     ]
    }
   ],
   "source": [
    "\n",
    "IMAGE_RES = 224\n",
    "\n",
    "URL = 'https://tfhub.dev/google/edgetpu/vision/mobilenet-edgetpu-v2-feature-vector/l/2'\n",
    "feature_extractor = hub.KerasLayer(URL,\n",
    "  input_shape=(IMAGE_RES, IMAGE_RES, 3),\n",
    "  trainable=False)\n",
    "with tf.device(device_name=device):\n",
    "    \n",
    "    mobilenet = tf.keras.Sequential([\n",
    "      feature_extractor,\n",
    "      tf.keras.layers.Dense(2)\n",
    "    ])\n",
    "\n",
    "    mobilenet.summary()"
   ]
  },
  {
   "cell_type": "code",
   "execution_count": 35,
   "id": "74f1c140",
   "metadata": {},
   "outputs": [],
   "source": [
    "with tf.device(device_name=device):\n",
    "    \n",
    "    mobilenet.compile(\n",
    "      optimizer='adam', \n",
    "      loss=tf.keras.losses.SparseCategoricalCrossentropy(from_logits=True),\n",
    "      metrics=['accuracy'])"
   ]
  },
  {
   "cell_type": "code",
   "execution_count": 36,
   "id": "808a1b3f",
   "metadata": {},
   "outputs": [
    {
     "name": "stdout",
     "output_type": "stream",
     "text": [
      "Epoch 1/6\n",
      "846/846 [==============================] - 193s 214ms/step - loss: 0.3056 - accuracy: 0.5134 - val_loss: 1.0849 - val_accuracy: 0.5003\n",
      "Epoch 2/6\n",
      "846/846 [==============================] - 182s 215ms/step - loss: 0.1647 - accuracy: 0.5136 - val_loss: 1.1781 - val_accuracy: 0.5016\n",
      "Epoch 3/6\n",
      "846/846 [==============================] - 182s 215ms/step - loss: 0.1281 - accuracy: 0.5158 - val_loss: 1.2060 - val_accuracy: 0.5023\n",
      "Epoch 4/6\n",
      "846/846 [==============================] - 186s 220ms/step - loss: 0.1067 - accuracy: 0.5171 - val_loss: 1.2635 - val_accuracy: 0.5007\n",
      "Epoch 5/6\n",
      "846/846 [==============================] - 185s 218ms/step - loss: 0.0939 - accuracy: 0.5164 - val_loss: 1.2993 - val_accuracy: 0.4995\n",
      "Epoch 6/6\n",
      "846/846 [==============================] - 185s 218ms/step - loss: 0.0857 - accuracy: 0.5171 - val_loss: 1.3701 - val_accuracy: 0.5028\n"
     ]
    }
   ],
   "source": [
    "EPOCHS = 6\n",
    "with tf.device(device_name=device):\n",
    "    \n",
    "    history = mobilenet.fit(triann,\n",
    "                        epochs=EPOCHS,\n",
    "                        validation_data=vall)"
   ]
  },
  {
   "cell_type": "code",
   "execution_count": 27,
   "id": "e35712ec",
   "metadata": {},
   "outputs": [
    {
     "name": "stdout",
     "output_type": "stream",
     "text": [
      "WARNING:tensorflow:Please fix your imports. Module tensorflow.python.training.tracking.data_structures has been moved to tensorflow.python.trackable.data_structures. The old module will be deleted in version 2.11.\n",
      "Model: \"sequential\"\n",
      "_________________________________________________________________\n",
      " Layer (type)                Output Shape              Param #   \n",
      "=================================================================\n",
      " keras_layer (KerasLayer)    (None, 2048)              58331648  \n",
      "                                                                 \n",
      " dense (Dense)               (None, 2)                 4098      \n",
      "                                                                 \n",
      "=================================================================\n",
      "Total params: 58,335,746\n",
      "Trainable params: 4,098\n",
      "Non-trainable params: 58,331,648\n",
      "_________________________________________________________________\n"
     ]
    }
   ],
   "source": [
    "IMAGE_RES = 224\n",
    "\n",
    "URL = 'https://tfhub.dev/google/imagenet/resnet_v2_152/feature_vector/5'\n",
    "feature_extractor = hub.KerasLayer(URL,\n",
    "  input_shape=(IMAGE_RES, IMAGE_RES, 3),\n",
    "  trainable=False)\n",
    "with tf.device(device_name=device):\n",
    "    \n",
    "    resnet = tf.keras.Sequential([\n",
    "      feature_extractor,\n",
    "      tf.keras.layers.Dense(2)\n",
    "    ])\n",
    "\n",
    "    resnet.summary()"
   ]
  },
  {
   "cell_type": "code",
   "execution_count": 28,
   "id": "2d36415f",
   "metadata": {},
   "outputs": [],
   "source": [
    "with tf.device(device_name=device):\n",
    "    \n",
    "    resnet.compile(\n",
    "      optimizer='adam', \n",
    "      loss=tf.keras.losses.SparseCategoricalCrossentropy(from_logits=True),\n",
    "      metrics=['accuracy'])"
   ]
  },
  {
   "cell_type": "code",
   "execution_count": 14,
   "id": "5835d306",
   "metadata": {},
   "outputs": [],
   "source": [
    "EPOCHS = 6\n",
    "with tf.device(device_name=device):\n",
    "    \n",
    "    history = resnet.fit(triann,\n",
    "                        epochs=EPOCHS,\n",
    "                        validation_data=vall)"
   ]
  },
  {
   "cell_type": "code",
   "execution_count": 15,
   "id": "dcdc8cb5",
   "metadata": {},
   "outputs": [
    {
     "name": "stdout",
     "output_type": "stream",
     "text": [
      "WARNING:tensorflow:Please fix your imports. Module tensorflow.python.training.tracking.data_structures has been moved to tensorflow.python.trackable.data_structures. The old module will be deleted in version 2.11.\n"
     ]
    },
    {
     "name": "stderr",
     "output_type": "stream",
     "text": [
      "WARNING:absl:Deleting lock file C:\\Users\\DELLG3~1\\AppData\\Local\\Temp\\tfhub_modules\\aeb09487e1b0889b640934b910b2b0b4b721a018.lock due to inactivity.\n"
     ]
    },
    {
     "name": "stdout",
     "output_type": "stream",
     "text": [
      "Model: \"sequential\"\n",
      "_________________________________________________________________\n",
      " Layer (type)                Output Shape              Param #   \n",
      "=================================================================\n",
      " keras_layer (KerasLayer)    (None, 2048)              23561152  \n",
      "                                                                 \n",
      " dense (Dense)               (None, 2)                 4098      \n",
      "                                                                 \n",
      "=================================================================\n",
      "Total params: 23,565,250\n",
      "Trainable params: 4,098\n",
      "Non-trainable params: 23,561,152\n",
      "_________________________________________________________________\n"
     ]
    }
   ],
   "source": [
    "IMAGE_RES = 224\n",
    "\n",
    "URL = 'https://tfhub.dev/google/imagenet/resnet_v1_50/feature_vector/5'\n",
    "feature_extractor = hub.KerasLayer(URL,\n",
    "  input_shape=(IMAGE_RES, IMAGE_RES, 3),\n",
    "  trainable=False)\n",
    "with tf.device(device_name=device):\n",
    "    \n",
    "    resnet = tf.keras.Sequential([\n",
    "      feature_extractor,\n",
    "      tf.keras.layers.Dense(2)\n",
    "    ])\n",
    "\n",
    "    resnet.summary()"
   ]
  },
  {
   "cell_type": "code",
   "execution_count": 16,
   "id": "f9781e58",
   "metadata": {},
   "outputs": [],
   "source": [
    "with tf.device(device_name=device):\n",
    "    \n",
    "    resnet.compile(\n",
    "      optimizer='adam', \n",
    "      loss=tf.keras.losses.SparseCategoricalCrossentropy(from_logits=True),\n",
    "      metrics=['accuracy'])"
   ]
  },
  {
   "cell_type": "code",
   "execution_count": 17,
   "id": "a92d2ea3",
   "metadata": {},
   "outputs": [
    {
     "name": "stdout",
     "output_type": "stream",
     "text": [
      "Epoch 1/6\n",
      "846/846 [==============================] - 379s 401ms/step - loss: 0.3081 - accuracy: 0.8722 - val_loss: 1.0166 - val_accuracy: 0.5545\n",
      "Epoch 2/6\n",
      "846/846 [==============================] - 319s 376ms/step - loss: 0.1695 - accuracy: 0.9404 - val_loss: 1.0423 - val_accuracy: 0.5694\n",
      "Epoch 3/6\n",
      "846/846 [==============================] - 327s 386ms/step - loss: 0.1328 - accuracy: 0.9549 - val_loss: 1.1105 - val_accuracy: 0.5737\n",
      "Epoch 4/6\n",
      "846/846 [==============================] - 301s 355ms/step - loss: 0.1129 - accuracy: 0.9621 - val_loss: 1.1687 - val_accuracy: 0.5853\n",
      "Epoch 5/6\n",
      "846/846 [==============================] - 160s 188ms/step - loss: 0.0981 - accuracy: 0.9671 - val_loss: 1.2682 - val_accuracy: 0.5635\n",
      "Epoch 6/6\n",
      "846/846 [==============================] - 160s 188ms/step - loss: 0.0893 - accuracy: 0.9708 - val_loss: 1.2333 - val_accuracy: 0.5877\n"
     ]
    }
   ],
   "source": [
    "EPOCHS = 6\n",
    "with tf.device(device_name=device):\n",
    "    \n",
    "    history = resnet.fit(triann,\n",
    "                        epochs=EPOCHS,\n",
    "                        validation_data=vall)"
   ]
  },
  {
   "cell_type": "code",
   "execution_count": 21,
   "id": "a402e80d",
   "metadata": {},
   "outputs": [
    {
     "name": "stdout",
     "output_type": "stream",
     "text": [
      "Model: \"sequential_2\"\n",
      "_________________________________________________________________\n",
      " Layer (type)                Output Shape              Param #   \n",
      "=================================================================\n",
      " keras_layer_2 (KerasLayer)  (None, 2048)              42626560  \n",
      "                                                                 \n",
      " dense_2 (Dense)             (None, 2)                 4098      \n",
      "                                                                 \n",
      "=================================================================\n",
      "Total params: 42,630,658\n",
      "Trainable params: 4,098\n",
      "Non-trainable params: 42,626,560\n",
      "_________________________________________________________________\n"
     ]
    }
   ],
   "source": [
    "IMAGE_RES = 224\n",
    "\n",
    "URL = 'https://tfhub.dev/google/imagenet/resnet_v2_101/feature_vector/5'\n",
    "feature_extractor = hub.KerasLayer(URL,\n",
    "  input_shape=(IMAGE_RES, IMAGE_RES, 3),\n",
    "  trainable=False)\n",
    "with tf.device(device_name=device):\n",
    "    \n",
    "    resnet = tf.keras.Sequential([\n",
    "      feature_extractor,\n",
    "      tf.keras.layers.Dense(2)\n",
    "    ])\n",
    "\n",
    "    resnet.summary()"
   ]
  },
  {
   "cell_type": "code",
   "execution_count": 22,
   "id": "ff099e4b",
   "metadata": {},
   "outputs": [],
   "source": [
    "with tf.device(device_name=device):\n",
    "    resnet.compile(\n",
    "      optimizer='adam', \n",
    "      loss=tf.keras.losses.SparseCategoricalCrossentropy(from_logits=True),\n",
    "      metrics=['accuracy'])"
   ]
  },
  {
   "cell_type": "code",
   "execution_count": 23,
   "id": "3e1630a4",
   "metadata": {},
   "outputs": [
    {
     "name": "stdout",
     "output_type": "stream",
     "text": [
      "Epoch 1/6\n",
      "846/846 [==============================] - 289s 331ms/step - loss: 0.3355 - accuracy: 0.8592 - val_loss: 1.0478 - val_accuracy: 0.5557\n",
      "Epoch 2/6\n",
      "846/846 [==============================] - 277s 327ms/step - loss: 0.1991 - accuracy: 0.9293 - val_loss: 1.2033 - val_accuracy: 0.5345\n",
      "Epoch 3/6\n",
      "846/846 [==============================] - 280s 330ms/step - loss: 0.1612 - accuracy: 0.9420 - val_loss: 1.4587 - val_accuracy: 0.5260\n",
      "Epoch 4/6\n",
      "846/846 [==============================] - 281s 332ms/step - loss: 0.1439 - accuracy: 0.9476 - val_loss: 1.5139 - val_accuracy: 0.5296\n",
      "Epoch 5/6\n",
      "846/846 [==============================] - 279s 330ms/step - loss: 0.1305 - accuracy: 0.9540 - val_loss: 1.5422 - val_accuracy: 0.5360\n",
      "Epoch 6/6\n",
      "846/846 [==============================] - 279s 329ms/step - loss: 0.1183 - accuracy: 0.9585 - val_loss: 1.6859 - val_accuracy: 0.5326\n"
     ]
    }
   ],
   "source": [
    "EPOCHS = 6\n",
    "with tf.device(device_name=device):\n",
    "    \n",
    "    history = resnet.fit(triann,\n",
    "                        epochs=EPOCHS,\n",
    "                        validation_data=vall)"
   ]
  },
  {
   "cell_type": "code",
   "execution_count": 21,
   "id": "37f8825d",
   "metadata": {},
   "outputs": [
    {
     "name": "stdout",
     "output_type": "stream",
     "text": [
      "WARNING:tensorflow:Please fix your imports. Module tensorflow.python.training.tracking.data_structures has been moved to tensorflow.python.trackable.data_structures. The old module will be deleted in version 2.11.\n",
      "Model: \"sequential\"\n",
      "_________________________________________________________________\n",
      " Layer (type)                Output Shape              Param #   \n",
      "=================================================================\n",
      " keras_layer (KerasLayer)    (None, 1536)              54336736  \n",
      "                                                                 \n",
      " dense (Dense)               (None, 512)               786944    \n",
      "                                                                 \n",
      " dense_1 (Dense)             (None, 2)                 1026      \n",
      "                                                                 \n",
      "=================================================================\n",
      "Total params: 55,124,706\n",
      "Trainable params: 787,970\n",
      "Non-trainable params: 54,336,736\n",
      "_________________________________________________________________\n"
     ]
    }
   ],
   "source": [
    "IMAGE_RES = 299\n",
    "\n",
    "URL = \"https://tfhub.dev/google/imagenet/inception_resnet_v2/feature_vector/5\"\n",
    "feature_extractor = hub.KerasLayer(URL,\n",
    "  input_shape=(IMAGE_RES, IMAGE_RES, 3),\n",
    "  trainable=False)\n",
    "with tf.device(device_name=device):\n",
    "    \n",
    "    model_inceptionres = tf.keras.Sequential([\n",
    "      feature_extractor,\n",
    "        tf.keras.layers.Dense(512, activation='relu'),\n",
    "      tf.keras.layers.Dense(2)\n",
    "    ])\n",
    "\n",
    "    model_inceptionres.summary()"
   ]
  },
  {
   "cell_type": "code",
   "execution_count": 22,
   "id": "abf94f8c",
   "metadata": {},
   "outputs": [],
   "source": [
    "with tf.device(device_name=device):\n",
    "    \n",
    "    model_inceptionres.compile(\n",
    "      optimizer=tf.keras.optimizers.SGD(\n",
    "    learning_rate=0.001,\n",
    "      momentum=0.9),\n",
    "      loss=tf.keras.losses.SparseCategoricalCrossentropy(from_logits=True),\n",
    "      metrics=['accuracy'])"
   ]
  },
  {
   "cell_type": "code",
   "execution_count": 23,
   "id": "8e831199",
   "metadata": {},
   "outputs": [
    {
     "name": "stdout",
     "output_type": "stream",
     "text": [
      "Epoch 1/6\n",
      "846/846 [==============================] - 507s 582ms/step - loss: 0.4203 - accuracy: 0.8105 - val_loss: 0.7089 - val_accuracy: 0.6297\n",
      "Epoch 2/6\n",
      "846/846 [==============================] - 490s 579ms/step - loss: 0.2622 - accuracy: 0.9014 - val_loss: 0.7297 - val_accuracy: 0.6558\n",
      "Epoch 3/6\n",
      "846/846 [==============================] - 494s 584ms/step - loss: 0.1877 - accuracy: 0.9361 - val_loss: 0.7602 - val_accuracy: 0.6587\n",
      "Epoch 4/6\n",
      "846/846 [==============================] - 493s 582ms/step - loss: 0.1473 - accuracy: 0.9523 - val_loss: 0.7875 - val_accuracy: 0.6670\n",
      "Epoch 5/6\n",
      "846/846 [==============================] - 494s 584ms/step - loss: 0.1205 - accuracy: 0.9624 - val_loss: 0.7577 - val_accuracy: 0.6853\n",
      "Epoch 6/6\n",
      "846/846 [==============================] - 497s 587ms/step - loss: 0.0996 - accuracy: 0.9713 - val_loss: 0.8189 - val_accuracy: 0.6720\n"
     ]
    }
   ],
   "source": [
    "EPOCHS = 6\n",
    "with tf.device(device_name=device):\n",
    "    \n",
    "    history = model_inceptionres.fit(triann,\n",
    "                        epochs=EPOCHS,\n",
    "                        validation_data=vall)"
   ]
  },
  {
   "cell_type": "code",
   "execution_count": null,
   "id": "b9d5a206",
   "metadata": {},
   "outputs": [],
   "source": []
  }
 ],
 "metadata": {
  "kernelspec": {
   "display_name": "Python 3 (ipykernel)",
   "language": "python",
   "name": "python3"
  },
  "language_info": {
   "codemirror_mode": {
    "name": "ipython",
    "version": 3
   },
   "file_extension": ".py",
   "mimetype": "text/x-python",
   "name": "python",
   "nbconvert_exporter": "python",
   "pygments_lexer": "ipython3",
   "version": "3.9.13"
  }
 },
 "nbformat": 4,
 "nbformat_minor": 5
}
