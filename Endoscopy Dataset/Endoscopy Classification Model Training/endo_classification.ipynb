{
 "cells": [
  {
   "cell_type": "code",
   "execution_count": 1,
   "id": "d0466b7a",
   "metadata": {},
   "outputs": [],
   "source": [
    "import os\n",
    "import numpy as np \n",
    "import matplotlib.pyplot as plt\n",
    "from PIL import Image\n",
    "import tensorflow_hub as hub    \n",
    "import tensorflow as tf\n",
    "import Augmentor\n",
    "from IPython.display import Image as Im\n",
    "from IPython.display import display\n",
    "%matplotlib inline"
   ]
  },
  {
   "cell_type": "code",
   "execution_count": 2,
   "id": "3d12cd41",
   "metadata": {},
   "outputs": [],
   "source": [
    "batch_size = 16\n",
    "IMG_SHAPE = 299\n",
    "base_dir = 'D:/Grad_Proj/endo_class'\n",
    "\n",
    "train_dir = os.path.join(base_dir, 'train')\n",
    "val_dir = os.path.join(base_dir, 'val')\n",
    "test_dir = os.path.join(base_dir, 'test')\n",
    "\n",
    "device = '/gpu:0' if tf.config.list_physical_devices('GPU') else '/cpu:0'"
   ]
  },
  {
   "cell_type": "code",
   "execution_count": 3,
   "id": "92a6d667",
   "metadata": {},
   "outputs": [
    {
     "name": "stdout",
     "output_type": "stream",
     "text": [
      "Found 45510 files belonging to 2 classes.\n",
      "Found 9488 files belonging to 2 classes.\n",
      "Found 7357 files belonging to 2 classes.\n"
     ]
    }
   ],
   "source": [
    "training_data = tf.keras.utils.image_dataset_from_directory(directory = train_dir,\n",
    "                                                           labels = 'inferred',\n",
    "                                                           label_mode='binary',\n",
    "                                                           batch_size=batch_size,\n",
    "                                                           image_size=(IMG_SHAPE, IMG_SHAPE),\n",
    "                                                           shuffle=True,\n",
    "                                                           color_mode='rgb')\n",
    "\n",
    "val_data = tf.keras.utils.image_dataset_from_directory(directory = val_dir,\n",
    "                                                           labels = 'inferred',\n",
    "                                                           label_mode='binary',\n",
    "                                                           batch_size=batch_size,\n",
    "                                                           image_size=(IMG_SHAPE, IMG_SHAPE),\n",
    "                                                           color_mode='rgb')\n",
    "\n",
    "test_data = tf.keras.utils.image_dataset_from_directory(directory = test_dir,\n",
    "                                                           labels = 'inferred',\n",
    "                                                           batch_size=batch_size,\n",
    "                                                           image_size=(IMG_SHAPE, IMG_SHAPE),\n",
    "                                                           color_mode='rgb')"
   ]
  },
  {
   "cell_type": "code",
   "execution_count": 4,
   "id": "29e9b352",
   "metadata": {},
   "outputs": [],
   "source": [
    "@tf.function\n",
    "def map_fn(img, label):\n",
    "    image_height = IMG_SHAPE\n",
    "    image_width = IMG_SHAPE\n",
    "    img = tf.image.resize(img, [image_height, image_width])\n",
    "    img /= 255\n",
    "    return img, label\n",
    "\n",
    "triann = training_data.map(map_fn)\n",
    "vall = val_data.map(map_fn)\n",
    "testt = test_data.map(map_fn)"
   ]
  },
  {
   "cell_type": "code",
   "execution_count": 6,
   "id": "6b1622b9",
   "metadata": {},
   "outputs": [
    {
     "name": "stdout",
     "output_type": "stream",
     "text": [
      "Model: \"sequential\"\n",
      "_________________________________________________________________\n",
      " Layer (type)                Output Shape              Param #   \n",
      "=================================================================\n",
      " keras_layer (KerasLayer)    (None, 2048)              21802784  \n",
      "                                                                 \n",
      " dense (Dense)               (None, 2)                 4098      \n",
      "                                                                 \n",
      "=================================================================\n",
      "Total params: 21,806,882\n",
      "Trainable params: 4,098\n",
      "Non-trainable params: 21,802,784\n",
      "_________________________________________________________________\n"
     ]
    }
   ],
   "source": [
    "IMAGE_RES = 299\n",
    "\n",
    "URL = \"https://tfhub.dev/google/imagenet/inception_v3/feature_vector/5\"\n",
    "feature_extractor = hub.KerasLayer(URL,\n",
    "  input_shape=(IMAGE_RES, IMAGE_RES, 3),\n",
    "  trainable=False)\n",
    "with tf.device(device_name=device):\n",
    "    \n",
    "    model_inception3 = tf.keras.Sequential([\n",
    "      feature_extractor,\n",
    "      tf.keras.layers.Dense(2)\n",
    "    ])\n",
    "\n",
    "    model_inception3.summary()"
   ]
  },
  {
   "cell_type": "code",
   "execution_count": 7,
   "id": "1eef2a26",
   "metadata": {},
   "outputs": [],
   "source": [
    "with tf.device(device_name=device):\n",
    "    \n",
    "    model_inception3.compile(\n",
    "      optimizer=tf.keras.optimizers.Adam(\n",
    "    learning_rate=0.0001),\n",
    "      loss=tf.keras.losses.SparseCategoricalCrossentropy(from_logits=True),\n",
    "      metrics=['accuracy'])"
   ]
  },
  {
   "cell_type": "code",
   "execution_count": 9,
   "id": "d70237d2",
   "metadata": {},
   "outputs": [
    {
     "name": "stdout",
     "output_type": "stream",
     "text": [
      "Epoch 1/10\n",
      "2845/2845 [==============================] - 489s 172ms/step - loss: 0.0097 - accuracy: 0.9995 - val_loss: 0.0031 - val_accuracy: 0.9998\n",
      "Epoch 2/10\n",
      "2845/2845 [==============================] - 433s 152ms/step - loss: 0.0020 - accuracy: 0.9998 - val_loss: 0.0012 - val_accuracy: 0.9998\n",
      "Epoch 3/10\n",
      "2845/2845 [==============================] - 454s 159ms/step - loss: 8.1936e-04 - accuracy: 1.0000 - val_loss: 6.8741e-04 - val_accuracy: 0.9998\n",
      "Epoch 4/10\n",
      "2845/2845 [==============================] - 447s 157ms/step - loss: 4.1498e-04 - accuracy: 1.0000 - val_loss: 4.7283e-04 - val_accuracy: 0.9998\n",
      "Epoch 5/10\n",
      "2845/2845 [==============================] - 453s 159ms/step - loss: 2.3876e-04 - accuracy: 1.0000 - val_loss: 3.4374e-04 - val_accuracy: 0.9998\n",
      "Epoch 6/10\n",
      "2845/2845 [==============================] - 455s 160ms/step - loss: 1.4318e-04 - accuracy: 1.0000 - val_loss: 2.6844e-04 - val_accuracy: 0.9999\n",
      "Epoch 7/10\n",
      "2845/2845 [==============================] - 452s 159ms/step - loss: 8.8397e-05 - accuracy: 1.0000 - val_loss: 2.2179e-04 - val_accuracy: 0.9999\n",
      "Epoch 8/10\n",
      "2845/2845 [==============================] - 457s 160ms/step - loss: 5.5347e-05 - accuracy: 1.0000 - val_loss: 1.7544e-04 - val_accuracy: 1.0000\n",
      "Epoch 9/10\n",
      "2845/2845 [==============================] - 458s 161ms/step - loss: 3.5142e-05 - accuracy: 1.0000 - val_loss: 1.3703e-04 - val_accuracy: 1.0000\n",
      "Epoch 10/10\n",
      "2845/2845 [==============================] - 459s 161ms/step - loss: 2.2717e-05 - accuracy: 1.0000 - val_loss: 1.1121e-04 - val_accuracy: 1.0000\n"
     ]
    }
   ],
   "source": [
    "EPOCHS = 10\n",
    "with tf.device(device_name=device):\n",
    "    \n",
    "    history = model_inception3.fit(triann,\n",
    "                        epochs=EPOCHS,\n",
    "                        validation_data=vall)"
   ]
  },
  {
   "cell_type": "code",
   "execution_count": 10,
   "id": "1b3b1c63",
   "metadata": {},
   "outputs": [
    {
     "name": "stdout",
     "output_type": "stream",
     "text": [
      "460/460 - 63s - loss: 7.7740e-04 - accuracy: 0.9999 - 63s/epoch - 137ms/step\n",
      " model, accuracy: 99.99%\n"
     ]
    }
   ],
   "source": [
    "loss, accuracy_d = model_inception3.evaluate(testt, verbose=2)\n",
    "print(\" model, accuracy: {:5.2f}%\".format(100 * accuracy_d))"
   ]
  },
  {
   "cell_type": "code",
   "execution_count": 11,
   "id": "94e84f35",
   "metadata": {},
   "outputs": [],
   "source": [
    "model_inception3.save('D:/Grad_Proj/endo_class/endo_model_class.h5')"
   ]
  },
  {
   "cell_type": "code",
   "execution_count": 17,
   "id": "f4f80114",
   "metadata": {},
   "outputs": [
    {
     "data": {
      "image/png": "[encoded data removed]",
      "text/plain": [
       "<Figure size 640x480 with 1 Axes>"
      ]
     },
     "metadata": {},
     "output_type": "display_data"
    }
   ],
   "source": [
    "plt.style.use(\"ggplot\")\n",
    "plt.figure()\n",
    "N = 10\n",
    "plt.plot(np.arange(0, N), history.history[\"loss\"], label=\"train_loss\")\n",
    "plt.plot(np.arange(0, N), history.history[\"val_loss\"], label=\"val_loss\")\n",
    "plt.plot(np.arange(0, N), history.history[\"accuracy\"], label=\"train_acc\")\n",
    "plt.plot(np.arange(0, N), history.history[\"val_accuracy\"], label=\"val_acc\")\n",
    "plt.title(\"Training Loss and Accuracy\")\n",
    "plt.xlabel(\"Epoch #\")\n",
    "plt.ylabel(\"Loss/Accuracy\")\n",
    "plt.legend(loc=\"lower left\")\n",
    "plt.savefig(\"D:/Grad_Proj/endo_class/mygraph.png\")"
   ]
  },
  {
   "cell_type": "code",
   "execution_count": null,
   "id": "ee0b5a90",
   "metadata": {},
   "outputs": [],
   "source": []
  }
 ],
 "metadata": {
  "kernelspec": {
   "display_name": "Python 3 (ipykernel)",
   "language": "python",
   "name": "python3"
  },
  "language_info": {
   "codemirror_mode": {
    "name": "ipython",
    "version": 3
   },
   "file_extension": ".py",
   "mimetype": "text/x-python",
   "name": "python",
   "nbconvert_exporter": "python",
   "pygments_lexer": "ipython3",
   "version": "3.9.13"
  }
 },
 "nbformat": 4,
 "nbformat_minor": 5
}
