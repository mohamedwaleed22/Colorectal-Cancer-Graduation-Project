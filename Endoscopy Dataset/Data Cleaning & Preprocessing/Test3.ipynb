{
 "cells": [
  {
   "cell_type": "markdown",
   "id": "7d628ffa",
   "metadata": {},
   "source": [
    "# Validating the annotation files with the images "
   ]
  },
  {
   "cell_type": "code",
   "execution_count": 1,
   "id": "bc977ed6",
   "metadata": {},
   "outputs": [],
   "source": [
    "import os\n",
    "folder = 'D:/Grad_Proj/PolypsSet/yolo/real_dataset/labels/train_original'\n",
    "dir1 = os.listdir(folder)\n",
    "adeno = []\n",
    "hyper = []\n",
    "for file in dir1:\n",
    "    x = 'D:/Grad_Proj/PolypsSet/yolo/real_dataset/labels/train_original/{}'.format(file)\n",
    "    with open(x) as file:\n",
    "        lines = [line.split(' ') for line in file]\n",
    "        y = lines[0][0]\n",
    "        if y == '1':\n",
    "            adeno.append(x)\n",
    "        else:\n",
    "            hyper.append(x)\n",
    "            "
   ]
  },
  {
   "cell_type": "code",
   "execution_count": 2,
   "id": "23b309c5",
   "metadata": {},
   "outputs": [
    {
     "data": {
      "text/plain": [
       "14269"
      ]
     },
     "execution_count": 2,
     "metadata": {},
     "output_type": "execute_result"
    }
   ],
   "source": [
    "len(adeno)"
   ]
  },
  {
   "cell_type": "code",
   "execution_count": 3,
   "id": "f6d8c37c",
   "metadata": {},
   "outputs": [
    {
     "data": {
      "text/plain": [
       "12778"
      ]
     },
     "execution_count": 3,
     "metadata": {},
     "output_type": "execute_result"
    }
   ],
   "source": [
    "len(hyper)"
   ]
  },
  {
   "cell_type": "code",
   "execution_count": 5,
   "id": "634841cc",
   "metadata": {},
   "outputs": [],
   "source": [
    "adeno2 = []\n",
    "hyper2 = []"
   ]
  },
  {
   "cell_type": "code",
   "execution_count": 4,
   "id": "a7d6a97b",
   "metadata": {},
   "outputs": [],
   "source": [
    "adeno2 = adeno\n",
    "hyper2 = hyper"
   ]
  },
  {
   "cell_type": "code",
   "execution_count": 7,
   "id": "534d005c",
   "metadata": {},
   "outputs": [
    {
     "data": {
      "text/plain": [
       "14269"
      ]
     },
     "execution_count": 7,
     "metadata": {},
     "output_type": "execute_result"
    }
   ],
   "source": [
    "len(adeno2)"
   ]
  },
  {
   "cell_type": "code",
   "execution_count": 9,
   "id": "5344f528",
   "metadata": {},
   "outputs": [],
   "source": [
    "import shutil\n",
    "\n",
    "destination_folder = 'D:/Grad_Proj/PolypsSet/yolo/real_dataset/labels/final_train/adenomatous/'\n",
    "\n",
    "for file_name in hyper2:    \n",
    "    if os.path.isfile(file_name):\n",
    "        shutil.copy(file_name, destination_folder)\n"
   ]
  },
  {
   "cell_type": "code",
   "execution_count": 13,
   "id": "c6b97bac",
   "metadata": {},
   "outputs": [],
   "source": [
    "\n",
    "dir2 = os.listdir('D:/Grad_Proj/PolypsSet/yolo/real_dataset/labels/final_train/hyperplastic')\n",
    "imgs_to_copy = []\n",
    "for i in dir2:\n",
    "    imgs_to_copy.append(i.split('.')[0])"
   ]
  },
  {
   "cell_type": "code",
   "execution_count": 14,
   "id": "24964797",
   "metadata": {},
   "outputs": [],
   "source": [
    "destination_folder = 'D:/Grad_Proj/PolypsSet/yolo/real_dataset/images/final_train/hyperplastic/'\n",
    "\n",
    "for file_name in imgs_to_copy:\n",
    "    images = 'D:/Grad_Proj/PolypsSet/yolo/real_dataset/images/train_original/{}{}'.format(file_name, '.jpg')\n",
    "    if os.path.isfile(images):\n",
    "        shutil.copy(images, destination_folder)"
   ]
  },
  {
   "cell_type": "code",
   "execution_count": 24,
   "id": "7a33921b",
   "metadata": {},
   "outputs": [],
   "source": [
    "test_img = os.listdir('D:/Grad_Proj/PolypsSet/yolo/real_dataset/images/final_val/hyperplastic')\n",
    "test_txt = os.listdir('D:/Grad_Proj/PolypsSet/yolo/real_dataset/labels/final_val/hyperplastic')\n",
    "img = []\n",
    "txt = []\n",
    "for i in test_img:\n",
    "    img.append(i.split('.')[0])\n",
    "for i in test_txt:\n",
    "    txt.append(i.split('.')[0])"
   ]
  },
  {
   "cell_type": "code",
   "execution_count": 25,
   "id": "318c6570",
   "metadata": {},
   "outputs": [],
   "source": [
    "img2 = img.sort()\n",
    "txt2 = txt.sort()"
   ]
  },
  {
   "cell_type": "code",
   "execution_count": 26,
   "id": "c0949d31",
   "metadata": {},
   "outputs": [
    {
     "data": {
      "text/plain": [
       "True"
      ]
     },
     "execution_count": 26,
     "metadata": {},
     "output_type": "execute_result"
    }
   ],
   "source": [
    "img2 == txt2"
   ]
  },
  {
   "cell_type": "code",
   "execution_count": 1,
   "id": "2d1d3c15",
   "metadata": {},
   "outputs": [],
   "source": [
    "import os"
   ]
  },
  {
   "cell_type": "code",
   "execution_count": 2,
   "id": "5f94a139",
   "metadata": {},
   "outputs": [],
   "source": [
    "folder = 'D:/Grad_Proj/PolypsSet/yolo/real_dataset/labels/test'\n",
    "dir1 = os.listdir(folder)\n",
    "adeno = []\n",
    "hyper = []\n",
    "for file in dir1:\n",
    "    x = 'D:/Grad_Proj/PolypsSet/yolo/real_dataset/labels/test/{}'.format(file)\n",
    "    with open(x) as file:\n",
    "        lines = [line.split(' ') for line in file]\n",
    "        y = lines[0][0]\n",
    "        if y == '1':\n",
    "            adeno.append(x)\n",
    "        else:\n",
    "            hyper.append(x)\n",
    "            "
   ]
  },
  {
   "cell_type": "code",
   "execution_count": 3,
   "id": "ece7e38d",
   "metadata": {},
   "outputs": [
    {
     "data": {
      "text/plain": [
       "2890"
      ]
     },
     "execution_count": 3,
     "metadata": {},
     "output_type": "execute_result"
    }
   ],
   "source": [
    "len(adeno)"
   ]
  },
  {
   "cell_type": "code",
   "execution_count": 4,
   "id": "848b1227",
   "metadata": {},
   "outputs": [
    {
     "data": {
      "text/plain": [
       "1829"
      ]
     },
     "execution_count": 4,
     "metadata": {},
     "output_type": "execute_result"
    }
   ],
   "source": [
    "len(hyper)"
   ]
  },
  {
   "cell_type": "code",
   "execution_count": 5,
   "id": "751bb7b6",
   "metadata": {},
   "outputs": [],
   "source": [
    "adeno2 = adeno\n",
    "hyper2 = hyper"
   ]
  },
  {
   "cell_type": "code",
   "execution_count": 7,
   "id": "2dba944d",
   "metadata": {},
   "outputs": [],
   "source": [
    "import shutil\n",
    "\n",
    "destination_folder = 'D:/Grad_Proj/PolypsSet/yolo/real_dataset/labels/test2/adenomatous/'\n",
    "\n",
    "for file_name in adeno2:    \n",
    "    if os.path.isfile(file_name):\n",
    "        shutil.copy(file_name, destination_folder)"
   ]
  },
  {
   "cell_type": "code",
   "execution_count": 10,
   "id": "4e716b1d",
   "metadata": {},
   "outputs": [],
   "source": [
    "\n",
    "dir2 = os.listdir('D:/Grad_Proj/PolypsSet/yolo/real_dataset/labels/test2/hyperplastic')\n",
    "imgs_to_copy = []\n",
    "for i in dir2:\n",
    "    imgs_to_copy.append(i.split('.')[0])"
   ]
  },
  {
   "cell_type": "code",
   "execution_count": 11,
   "id": "5b0b103d",
   "metadata": {},
   "outputs": [],
   "source": [
    "destination_folder = 'D:/Grad_Proj/PolypsSet/yolo/real_dataset/images/test2/hyperplastic/'\n",
    "\n",
    "for file_name in imgs_to_copy:\n",
    "    images = 'D:/Grad_Proj/PolypsSet/yolo/real_dataset/images/test/{}{}'.format(file_name, '.jpg')\n",
    "    if os.path.isfile(images):\n",
    "        shutil.copy(images, destination_folder)"
   ]
  },
  {
   "cell_type": "code",
   "execution_count": null,
   "id": "df5a5143",
   "metadata": {},
   "outputs": [],
   "source": [
    "folder = 'D:/Grad_Proj/PolypsSet/yolo/real_dataset/labels/val'\n",
    "dir1 = os.listdir(folder)\n",
    "adeno = []\n",
    "hyper = []\n",
    "for file in dir1:\n",
    "    x = 'D:/Grad_Proj/PolypsSet/yolo/real_dataset/labels/val/{}'.format(file)\n",
    "    with open(x) as file:\n",
    "        lines = [line.split(' ') for line in file]\n",
    "        y = lines[0][0]\n",
    "        if y == '1':\n",
    "            adeno.append(x)\n",
    "        else:\n",
    "            hyper.append(x)"
   ]
  },
  {
   "cell_type": "code",
   "execution_count": 27,
   "id": "ae5f533f",
   "metadata": {},
   "outputs": [],
   "source": [
    "import fileinput"
   ]
  },
  {
   "cell_type": "code",
   "execution_count": 28,
   "id": "79b2a183",
   "metadata": {},
   "outputs": [],
   "source": [
    "path = 'D:/Grad_Proj/PolypsSet/yolo/real_dataset/labels/final_val/adenomatous_modified'\n",
    "\n",
    "# Loop over all files in the directory\n",
    "for filename in os.listdir(path):\n",
    "    if filename.endswith('.txt'):\n",
    "        with fileinput.FileInput(os.path.join(path, filename), inplace=True) as file:\n",
    "            for line in file:\n",
    "                print('0' + line[1:], end='')"
   ]
  },
  {
   "cell_type": "code",
   "execution_count": null,
   "id": "86362ab3",
   "metadata": {},
   "outputs": [],
   "source": []
  }
 ],
 "metadata": {
  "kernelspec": {
   "display_name": "Python 3 (ipykernel)",
   "language": "python",
   "name": "python3"
  },
  "language_info": {
   "codemirror_mode": {
    "name": "ipython",
    "version": 3
   },
   "file_extension": ".py",
   "mimetype": "text/x-python",
   "name": "python",
   "nbconvert_exporter": "python",
   "pygments_lexer": "ipython3",
   "version": "3.9.13"
  }
 },
 "nbformat": 4,
 "nbformat_minor": 5
}
